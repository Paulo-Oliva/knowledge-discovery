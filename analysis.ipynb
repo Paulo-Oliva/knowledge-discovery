{
 "cells": [
  {
   "cell_type": "markdown",
   "id": "78757eee",
   "metadata": {},
   "source": [
    "# Porto's Taxis Data Analysis"
   ]
  },
  {
   "cell_type": "markdown",
   "id": "6ddbc7dc",
   "metadata": {},
   "source": [
    "### Imports"
   ]
  },
  {
   "cell_type": "code",
   "execution_count": 1,
   "id": "7f74d052",
   "metadata": {},
   "outputs": [
    {
     "data": {
      "text/html": [
       "<script type=\"esms-options\">{\"shimMode\": true}</script><style>*[data-root-id],\n",
       "*[data-root-id] > * {\n",
       "  box-sizing: border-box;\n",
       "  font-family: var(--jp-ui-font-family);\n",
       "  font-size: var(--jp-ui-font-size1);\n",
       "  color: var(--vscode-editor-foreground, var(--jp-ui-font-color1));\n",
       "}\n",
       "\n",
       "/* Override VSCode background color */\n",
       ".cell-output-ipywidget-background:has(\n",
       "    > .cell-output-ipywidget-background > .lm-Widget > *[data-root-id]\n",
       "  ),\n",
       ".cell-output-ipywidget-background:has(> .lm-Widget > *[data-root-id]) {\n",
       "  background-color: transparent !important;\n",
       "}\n",
       "</style>"
      ]
     },
     "metadata": {},
     "output_type": "display_data"
    },
    {
     "data": {
      "application/javascript": "(function(root) {\n  function now() {\n    return new Date();\n  }\n\n  const force = true;\n  const py_version = '3.7.3'.replace('rc', '-rc.').replace('.dev', '-dev.');\n  const reloading = false;\n  const Bokeh = root.Bokeh;\n\n  // Set a timeout for this load but only if we are not already initializing\n  if (typeof (root._bokeh_timeout) === \"undefined\" || (force || !root._bokeh_is_initializing)) {\n    root._bokeh_timeout = Date.now() + 5000;\n    root._bokeh_failed_load = false;\n  }\n\n  function run_callbacks() {\n    try {\n      root._bokeh_onload_callbacks.forEach(function(callback) {\n        if (callback != null)\n          callback();\n      });\n    } finally {\n      delete root._bokeh_onload_callbacks;\n    }\n    console.debug(\"Bokeh: all callbacks have finished\");\n  }\n\n  function load_libs(css_urls, js_urls, js_modules, js_exports, callback) {\n    if (css_urls == null) css_urls = [];\n    if (js_urls == null) js_urls = [];\n    if (js_modules == null) js_modules = [];\n    if (js_exports == null) js_exports = {};\n\n    root._bokeh_onload_callbacks.push(callback);\n\n    if (root._bokeh_is_loading > 0) {\n      // Don't load bokeh if it is still initializing\n      console.debug(\"Bokeh: BokehJS is being loaded, scheduling callback at\", now());\n      return null;\n    } else if (js_urls.length === 0 && js_modules.length === 0 && Object.keys(js_exports).length === 0) {\n      // There is nothing to load\n      run_callbacks();\n      return null;\n    }\n\n    function on_load() {\n      root._bokeh_is_loading--;\n      if (root._bokeh_is_loading === 0) {\n        console.debug(\"Bokeh: all BokehJS libraries/stylesheets loaded\");\n        run_callbacks()\n      }\n    }\n    window._bokeh_on_load = on_load\n\n    function on_error(e) {\n      const src_el = e.srcElement\n      console.error(\"failed to load \" + (src_el.href || src_el.src));\n    }\n\n    const skip = [];\n    if (window.requirejs) {\n      window.requirejs.config({'packages': {}, 'paths': {}, 'shim': {}});\n      root._bokeh_is_loading = css_urls.length + 0;\n    } else {\n      root._bokeh_is_loading = css_urls.length + js_urls.length + js_modules.length + Object.keys(js_exports).length;\n    }\n\n    const existing_stylesheets = []\n    const links = document.getElementsByTagName('link')\n    for (let i = 0; i < links.length; i++) {\n      const link = links[i]\n      if (link.href != null) {\n        existing_stylesheets.push(link.href)\n      }\n    }\n    for (let i = 0; i < css_urls.length; i++) {\n      const url = css_urls[i];\n      const escaped = encodeURI(url)\n      if (existing_stylesheets.indexOf(escaped) !== -1) {\n        on_load()\n        continue;\n      }\n      const element = document.createElement(\"link\");\n      element.onload = on_load;\n      element.onerror = on_error;\n      element.rel = \"stylesheet\";\n      element.type = \"text/css\";\n      element.href = url;\n      console.debug(\"Bokeh: injecting link tag for BokehJS stylesheet: \", url);\n      document.body.appendChild(element);\n    }    var existing_scripts = []\n    const scripts = document.getElementsByTagName('script')\n    for (let i = 0; i < scripts.length; i++) {\n      var script = scripts[i]\n      if (script.src != null) {\n        existing_scripts.push(script.src)\n      }\n    }\n    for (let i = 0; i < js_urls.length; i++) {\n      const url = js_urls[i];\n      const escaped = encodeURI(url)\n      if (skip.indexOf(escaped) !== -1 || existing_scripts.indexOf(escaped) !== -1) {\n        if (!window.requirejs) {\n          on_load();\n        }\n        continue;\n      }\n      const element = document.createElement('script');\n      element.onload = on_load;\n      element.onerror = on_error;\n      element.async = false;\n      element.src = url;\n      console.debug(\"Bokeh: injecting script tag for BokehJS library: \", url);\n      document.head.appendChild(element);\n    }\n    for (let i = 0; i < js_modules.length; i++) {\n      const url = js_modules[i];\n      const escaped = encodeURI(url)\n      if (skip.indexOf(escaped) !== -1 || existing_scripts.indexOf(escaped) !== -1) {\n        if (!window.requirejs) {\n          on_load();\n        }\n        continue;\n      }\n      var element = document.createElement('script');\n      element.onload = on_load;\n      element.onerror = on_error;\n      element.async = false;\n      element.src = url;\n      element.type = \"module\";\n      console.debug(\"Bokeh: injecting script tag for BokehJS library: \", url);\n      document.head.appendChild(element);\n    }\n    for (const name in js_exports) {\n      const url = js_exports[name];\n      const escaped = encodeURI(url)\n      if (skip.indexOf(escaped) >= 0 || root[name] != null) {\n        if (!window.requirejs) {\n          on_load();\n        }\n        continue;\n      }\n      var element = document.createElement('script');\n      element.onerror = on_error;\n      element.async = false;\n      element.type = \"module\";\n      console.debug(\"Bokeh: injecting script tag for BokehJS library: \", url);\n      element.textContent = `\n      import ${name} from \"${url}\"\n      window.${name} = ${name}\n      window._bokeh_on_load()\n      `\n      document.head.appendChild(element);\n    }\n    if (!js_urls.length && !js_modules.length) {\n      on_load()\n    }\n  };\n\n  function inject_raw_css(css) {\n    const element = document.createElement(\"style\");\n    element.appendChild(document.createTextNode(css));\n    document.body.appendChild(element);\n  }\n\n  const js_urls = [\"https://cdn.holoviz.org/panel/1.6.3/dist/bundled/reactiveesm/es-module-shims@^1.10.0/dist/es-module-shims.min.js\", \"https://cdn.bokeh.org/bokeh/release/bokeh-3.7.3.min.js\", \"https://cdn.bokeh.org/bokeh/release/bokeh-gl-3.7.3.min.js\", \"https://cdn.bokeh.org/bokeh/release/bokeh-widgets-3.7.3.min.js\", \"https://cdn.bokeh.org/bokeh/release/bokeh-tables-3.7.3.min.js\", \"https://cdn.holoviz.org/panel/1.6.3/dist/panel.min.js\"];\n  const js_modules = [];\n  const js_exports = {};\n  const css_urls = [];\n  const inline_js = [    function(Bokeh) {\n      Bokeh.set_log_level(\"info\");\n    },\nfunction(Bokeh) {} // ensure no trailing comma for IE\n  ];\n\n  function run_inline_js() {\n    if ((root.Bokeh !== undefined) || (force === true)) {\n      for (let i = 0; i < inline_js.length; i++) {\n        try {\n          inline_js[i].call(root, root.Bokeh);\n        } catch(e) {\n          if (!reloading) {\n            throw e;\n          }\n        }\n      }\n      // Cache old bokeh versions\n      if (Bokeh != undefined && !reloading) {\n        var NewBokeh = root.Bokeh;\n        if (Bokeh.versions === undefined) {\n          Bokeh.versions = new Map();\n        }\n        if (NewBokeh.version !== Bokeh.version) {\n          Bokeh.versions.set(NewBokeh.version, NewBokeh)\n        }\n        root.Bokeh = Bokeh;\n      }\n    } else if (Date.now() < root._bokeh_timeout) {\n      setTimeout(run_inline_js, 100);\n    } else if (!root._bokeh_failed_load) {\n      console.log(\"Bokeh: BokehJS failed to load within specified timeout.\");\n      root._bokeh_failed_load = true;\n    }\n    root._bokeh_is_initializing = false\n  }\n\n  function load_or_wait() {\n    // Implement a backoff loop that tries to ensure we do not load multiple\n    // versions of Bokeh and its dependencies at the same time.\n    // In recent versions we use the root._bokeh_is_initializing flag\n    // to determine whether there is an ongoing attempt to initialize\n    // bokeh, however for backward compatibility we also try to ensure\n    // that we do not start loading a newer (Panel>=1.0 and Bokeh>3) version\n    // before older versions are fully initialized.\n    if (root._bokeh_is_initializing && Date.now() > root._bokeh_timeout) {\n      // If the timeout and bokeh was not successfully loaded we reset\n      // everything and try loading again\n      root._bokeh_timeout = Date.now() + 5000;\n      root._bokeh_is_initializing = false;\n      root._bokeh_onload_callbacks = undefined;\n      root._bokeh_is_loading = 0\n      console.log(\"Bokeh: BokehJS was loaded multiple times but one version failed to initialize.\");\n      load_or_wait();\n    } else if (root._bokeh_is_initializing || (typeof root._bokeh_is_initializing === \"undefined\" && root._bokeh_onload_callbacks !== undefined)) {\n      setTimeout(load_or_wait, 100);\n    } else {\n      root._bokeh_is_initializing = true\n      root._bokeh_onload_callbacks = []\n      const bokeh_loaded = root.Bokeh != null && (root.Bokeh.version === py_version || (root.Bokeh.versions !== undefined && root.Bokeh.versions.has(py_version)));\n      if (!reloading && !bokeh_loaded) {\n        if (root.Bokeh) {\n          root.Bokeh = undefined;\n        }\n        console.debug(\"Bokeh: BokehJS not loaded, scheduling load and callback at\", now());\n      }\n      load_libs(css_urls, js_urls, js_modules, js_exports, function() {\n        console.debug(\"Bokeh: BokehJS plotting callback run at\", now());\n        run_inline_js();\n      });\n    }\n  }\n  // Give older versions of the autoload script a head-start to ensure\n  // they initialize before we start loading newer version.\n  setTimeout(load_or_wait, 100)\n}(window));",
      "application/vnd.holoviews_load.v0+json": ""
     },
     "metadata": {},
     "output_type": "display_data"
    },
    {
     "data": {
      "application/javascript": "\nif ((window.PyViz === undefined) || (window.PyViz instanceof HTMLElement)) {\n  window.PyViz = {comms: {}, comm_status:{}, kernels:{}, receivers: {}, plot_index: []}\n}\n\n\n    function JupyterCommManager() {\n    }\n\n    JupyterCommManager.prototype.register_target = function(plot_id, comm_id, msg_handler) {\n      if (window.comm_manager || ((window.Jupyter !== undefined) && (Jupyter.notebook.kernel != null))) {\n        var comm_manager = window.comm_manager || Jupyter.notebook.kernel.comm_manager;\n        comm_manager.register_target(comm_id, function(comm) {\n          comm.on_msg(msg_handler);\n        });\n      } else if ((plot_id in window.PyViz.kernels) && (window.PyViz.kernels[plot_id])) {\n        window.PyViz.kernels[plot_id].registerCommTarget(comm_id, function(comm) {\n          comm.onMsg = msg_handler;\n        });\n      } else if (typeof google != 'undefined' && google.colab.kernel != null) {\n        google.colab.kernel.comms.registerTarget(comm_id, (comm) => {\n          var messages = comm.messages[Symbol.asyncIterator]();\n          function processIteratorResult(result) {\n            var message = result.value;\n            console.log(message)\n            var content = {data: message.data, comm_id};\n            var buffers = []\n            for (var buffer of message.buffers || []) {\n              buffers.push(new DataView(buffer))\n            }\n            var metadata = message.metadata || {};\n            var msg = {content, buffers, metadata}\n            msg_handler(msg);\n            return messages.next().then(processIteratorResult);\n          }\n          return messages.next().then(processIteratorResult);\n        })\n      }\n    }\n\n    JupyterCommManager.prototype.get_client_comm = function(plot_id, comm_id, msg_handler) {\n      if (comm_id in window.PyViz.comms) {\n        return window.PyViz.comms[comm_id];\n      } else if (window.comm_manager || ((window.Jupyter !== undefined) && (Jupyter.notebook.kernel != null))) {\n        var comm_manager = window.comm_manager || Jupyter.notebook.kernel.comm_manager;\n        var comm = comm_manager.new_comm(comm_id, {}, {}, {}, comm_id);\n        if (msg_handler) {\n          comm.on_msg(msg_handler);\n        }\n      } else if ((plot_id in window.PyViz.kernels) && (window.PyViz.kernels[plot_id])) {\n        var comm = window.PyViz.kernels[plot_id].connectToComm(comm_id);\n        comm.open();\n        if (msg_handler) {\n          comm.onMsg = msg_handler;\n        }\n      } else if (typeof google != 'undefined' && google.colab.kernel != null) {\n        var comm_promise = google.colab.kernel.comms.open(comm_id)\n        comm_promise.then((comm) => {\n          window.PyViz.comms[comm_id] = comm;\n          if (msg_handler) {\n            var messages = comm.messages[Symbol.asyncIterator]();\n            function processIteratorResult(result) {\n              var message = result.value;\n              var content = {data: message.data};\n              var metadata = message.metadata || {comm_id};\n              var msg = {content, metadata}\n              msg_handler(msg);\n              return messages.next().then(processIteratorResult);\n            }\n            return messages.next().then(processIteratorResult);\n          }\n        })\n        var sendClosure = (data, metadata, buffers, disposeOnDone) => {\n          return comm_promise.then((comm) => {\n            comm.send(data, metadata, buffers, disposeOnDone);\n          });\n        };\n        var comm = {\n          send: sendClosure\n        };\n      }\n      window.PyViz.comms[comm_id] = comm;\n      return comm;\n    }\n    window.PyViz.comm_manager = new JupyterCommManager();\n    \n\n\nvar JS_MIME_TYPE = 'application/javascript';\nvar HTML_MIME_TYPE = 'text/html';\nvar EXEC_MIME_TYPE = 'application/vnd.holoviews_exec.v0+json';\nvar CLASS_NAME = 'output';\n\n/**\n * Render data to the DOM node\n */\nfunction render(props, node) {\n  var div = document.createElement(\"div\");\n  var script = document.createElement(\"script\");\n  node.appendChild(div);\n  node.appendChild(script);\n}\n\n/**\n * Handle when a new output is added\n */\nfunction handle_add_output(event, handle) {\n  var output_area = handle.output_area;\n  var output = handle.output;\n  if ((output.data == undefined) || (!output.data.hasOwnProperty(EXEC_MIME_TYPE))) {\n    return\n  }\n  var id = output.metadata[EXEC_MIME_TYPE][\"id\"];\n  var toinsert = output_area.element.find(\".\" + CLASS_NAME.split(' ')[0]);\n  if (id !== undefined) {\n    var nchildren = toinsert.length;\n    var html_node = toinsert[nchildren-1].children[0];\n    html_node.innerHTML = output.data[HTML_MIME_TYPE];\n    var scripts = [];\n    var nodelist = html_node.querySelectorAll(\"script\");\n    for (var i in nodelist) {\n      if (nodelist.hasOwnProperty(i)) {\n        scripts.push(nodelist[i])\n      }\n    }\n\n    scripts.forEach( function (oldScript) {\n      var newScript = document.createElement(\"script\");\n      var attrs = [];\n      var nodemap = oldScript.attributes;\n      for (var j in nodemap) {\n        if (nodemap.hasOwnProperty(j)) {\n          attrs.push(nodemap[j])\n        }\n      }\n      attrs.forEach(function(attr) { newScript.setAttribute(attr.name, attr.value) });\n      newScript.appendChild(document.createTextNode(oldScript.innerHTML));\n      oldScript.parentNode.replaceChild(newScript, oldScript);\n    });\n    if (JS_MIME_TYPE in output.data) {\n      toinsert[nchildren-1].children[1].textContent = output.data[JS_MIME_TYPE];\n    }\n    output_area._hv_plot_id = id;\n    if ((window.Bokeh !== undefined) && (id in Bokeh.index)) {\n      window.PyViz.plot_index[id] = Bokeh.index[id];\n    } else {\n      window.PyViz.plot_index[id] = null;\n    }\n  } else if (output.metadata[EXEC_MIME_TYPE][\"server_id\"] !== undefined) {\n    var bk_div = document.createElement(\"div\");\n    bk_div.innerHTML = output.data[HTML_MIME_TYPE];\n    var script_attrs = bk_div.children[0].attributes;\n    for (var i = 0; i < script_attrs.length; i++) {\n      toinsert[toinsert.length - 1].childNodes[1].setAttribute(script_attrs[i].name, script_attrs[i].value);\n    }\n    // store reference to server id on output_area\n    output_area._bokeh_server_id = output.metadata[EXEC_MIME_TYPE][\"server_id\"];\n  }\n}\n\n/**\n * Handle when an output is cleared or removed\n */\nfunction handle_clear_output(event, handle) {\n  var id = handle.cell.output_area._hv_plot_id;\n  var server_id = handle.cell.output_area._bokeh_server_id;\n  if (((id === undefined) || !(id in PyViz.plot_index)) && (server_id !== undefined)) { return; }\n  var comm = window.PyViz.comm_manager.get_client_comm(\"hv-extension-comm\", \"hv-extension-comm\", function () {});\n  if (server_id !== null) {\n    comm.send({event_type: 'server_delete', 'id': server_id});\n    return;\n  } else if (comm !== null) {\n    comm.send({event_type: 'delete', 'id': id});\n  }\n  delete PyViz.plot_index[id];\n  if ((window.Bokeh !== undefined) & (id in window.Bokeh.index)) {\n    var doc = window.Bokeh.index[id].model.document\n    doc.clear();\n    const i = window.Bokeh.documents.indexOf(doc);\n    if (i > -1) {\n      window.Bokeh.documents.splice(i, 1);\n    }\n  }\n}\n\n/**\n * Handle kernel restart event\n */\nfunction handle_kernel_cleanup(event, handle) {\n  delete PyViz.comms[\"hv-extension-comm\"];\n  window.PyViz.plot_index = {}\n}\n\n/**\n * Handle update_display_data messages\n */\nfunction handle_update_output(event, handle) {\n  handle_clear_output(event, {cell: {output_area: handle.output_area}})\n  handle_add_output(event, handle)\n}\n\nfunction register_renderer(events, OutputArea) {\n  function append_mime(data, metadata, element) {\n    // create a DOM node to render to\n    var toinsert = this.create_output_subarea(\n    metadata,\n    CLASS_NAME,\n    EXEC_MIME_TYPE\n    );\n    this.keyboard_manager.register_events(toinsert);\n    // Render to node\n    var props = {data: data, metadata: metadata[EXEC_MIME_TYPE]};\n    render(props, toinsert[0]);\n    element.append(toinsert);\n    return toinsert\n  }\n\n  events.on('output_added.OutputArea', handle_add_output);\n  events.on('output_updated.OutputArea', handle_update_output);\n  events.on('clear_output.CodeCell', handle_clear_output);\n  events.on('delete.Cell', handle_clear_output);\n  events.on('kernel_ready.Kernel', handle_kernel_cleanup);\n\n  OutputArea.prototype.register_mime_type(EXEC_MIME_TYPE, append_mime, {\n    safe: true,\n    index: 0\n  });\n}\n\nif (window.Jupyter !== undefined) {\n  try {\n    var events = require('base/js/events');\n    var OutputArea = require('notebook/js/outputarea').OutputArea;\n    if (OutputArea.prototype.mime_types().indexOf(EXEC_MIME_TYPE) == -1) {\n      register_renderer(events, OutputArea);\n    }\n  } catch(err) {\n  }\n}\n",
      "application/vnd.holoviews_load.v0+json": ""
     },
     "metadata": {},
     "output_type": "display_data"
    },
    {
     "data": {
      "application/vnd.holoviews_exec.v0+json": "",
      "text/html": [
       "<div id='d09806c3-7b42-4c4b-9e71-1493e1e184f1'>\n",
       "  <div id=\"be509ab9-49c7-4a98-9a4c-2a303bbb6f4e\" data-root-id=\"d09806c3-7b42-4c4b-9e71-1493e1e184f1\" style=\"display: contents;\"></div>\n",
       "</div>\n",
       "<script type=\"application/javascript\">(function(root) {\n",
       "  var docs_json = {\"d022f5c8-1530-4177-8211-051fc8a1fb15\":{\"version\":\"3.7.3\",\"title\":\"Bokeh Application\",\"roots\":[{\"type\":\"object\",\"name\":\"panel.models.browser.BrowserInfo\",\"id\":\"d09806c3-7b42-4c4b-9e71-1493e1e184f1\"},{\"type\":\"object\",\"name\":\"panel.models.comm_manager.CommManager\",\"id\":\"9a1d4984-a056-42f3-9348-0b433a2b7f0e\",\"attributes\":{\"plot_id\":\"d09806c3-7b42-4c4b-9e71-1493e1e184f1\",\"comm_id\":\"fc62931af44b4e9f9e48f59b5fee44ce\",\"client_comm_id\":\"ddc438d7bd0d479baee10116cf4d4600\"}}],\"defs\":[{\"type\":\"model\",\"name\":\"ReactiveHTML1\"},{\"type\":\"model\",\"name\":\"FlexBox1\",\"properties\":[{\"name\":\"align_content\",\"kind\":\"Any\",\"default\":\"flex-start\"},{\"name\":\"align_items\",\"kind\":\"Any\",\"default\":\"flex-start\"},{\"name\":\"flex_direction\",\"kind\":\"Any\",\"default\":\"row\"},{\"name\":\"flex_wrap\",\"kind\":\"Any\",\"default\":\"wrap\"},{\"name\":\"gap\",\"kind\":\"Any\",\"default\":\"\"},{\"name\":\"justify_content\",\"kind\":\"Any\",\"default\":\"flex-start\"}]},{\"type\":\"model\",\"name\":\"FloatPanel1\",\"properties\":[{\"name\":\"config\",\"kind\":\"Any\",\"default\":{\"type\":\"map\"}},{\"name\":\"contained\",\"kind\":\"Any\",\"default\":true},{\"name\":\"position\",\"kind\":\"Any\",\"default\":\"right-top\"},{\"name\":\"offsetx\",\"kind\":\"Any\",\"default\":null},{\"name\":\"offsety\",\"kind\":\"Any\",\"default\":null},{\"name\":\"theme\",\"kind\":\"Any\",\"default\":\"primary\"},{\"name\":\"status\",\"kind\":\"Any\",\"default\":\"normalized\"}]},{\"type\":\"model\",\"name\":\"GridStack1\",\"properties\":[{\"name\":\"ncols\",\"kind\":\"Any\",\"default\":null},{\"name\":\"nrows\",\"kind\":\"Any\",\"default\":null},{\"name\":\"allow_resize\",\"kind\":\"Any\",\"default\":true},{\"name\":\"allow_drag\",\"kind\":\"Any\",\"default\":true},{\"name\":\"state\",\"kind\":\"Any\",\"default\":[]}]},{\"type\":\"model\",\"name\":\"drag1\",\"properties\":[{\"name\":\"slider_width\",\"kind\":\"Any\",\"default\":5},{\"name\":\"slider_color\",\"kind\":\"Any\",\"default\":\"black\"},{\"name\":\"value\",\"kind\":\"Any\",\"default\":50}]},{\"type\":\"model\",\"name\":\"click1\",\"properties\":[{\"name\":\"terminal_output\",\"kind\":\"Any\",\"default\":\"\"},{\"name\":\"debug_name\",\"kind\":\"Any\",\"default\":\"\"},{\"name\":\"clears\",\"kind\":\"Any\",\"default\":0}]},{\"type\":\"model\",\"name\":\"FastWrapper1\",\"properties\":[{\"name\":\"object\",\"kind\":\"Any\",\"default\":null},{\"name\":\"style\",\"kind\":\"Any\",\"default\":null}]},{\"type\":\"model\",\"name\":\"NotificationArea1\",\"properties\":[{\"name\":\"js_events\",\"kind\":\"Any\",\"default\":{\"type\":\"map\"}},{\"name\":\"max_notifications\",\"kind\":\"Any\",\"default\":5},{\"name\":\"notifications\",\"kind\":\"Any\",\"default\":[]},{\"name\":\"position\",\"kind\":\"Any\",\"default\":\"bottom-right\"},{\"name\":\"_clear\",\"kind\":\"Any\",\"default\":0},{\"name\":\"types\",\"kind\":\"Any\",\"default\":[{\"type\":\"map\",\"entries\":[[\"type\",\"warning\"],[\"background\",\"#ffc107\"],[\"icon\",{\"type\":\"map\",\"entries\":[[\"className\",\"fas fa-exclamation-triangle\"],[\"tagName\",\"i\"],[\"color\",\"white\"]]}]]},{\"type\":\"map\",\"entries\":[[\"type\",\"info\"],[\"background\",\"#007bff\"],[\"icon\",{\"type\":\"map\",\"entries\":[[\"className\",\"fas fa-info-circle\"],[\"tagName\",\"i\"],[\"color\",\"white\"]]}]]}]}]},{\"type\":\"model\",\"name\":\"Notification\",\"properties\":[{\"name\":\"background\",\"kind\":\"Any\",\"default\":null},{\"name\":\"duration\",\"kind\":\"Any\",\"default\":3000},{\"name\":\"icon\",\"kind\":\"Any\",\"default\":null},{\"name\":\"message\",\"kind\":\"Any\",\"default\":\"\"},{\"name\":\"notification_type\",\"kind\":\"Any\",\"default\":null},{\"name\":\"_rendered\",\"kind\":\"Any\",\"default\":false},{\"name\":\"_destroyed\",\"kind\":\"Any\",\"default\":false}]},{\"type\":\"model\",\"name\":\"TemplateActions1\",\"properties\":[{\"name\":\"open_modal\",\"kind\":\"Any\",\"default\":0},{\"name\":\"close_modal\",\"kind\":\"Any\",\"default\":0}]},{\"type\":\"model\",\"name\":\"BootstrapTemplateActions1\",\"properties\":[{\"name\":\"open_modal\",\"kind\":\"Any\",\"default\":0},{\"name\":\"close_modal\",\"kind\":\"Any\",\"default\":0}]},{\"type\":\"model\",\"name\":\"TemplateEditor1\",\"properties\":[{\"name\":\"layout\",\"kind\":\"Any\",\"default\":[]}]},{\"type\":\"model\",\"name\":\"MaterialTemplateActions1\",\"properties\":[{\"name\":\"open_modal\",\"kind\":\"Any\",\"default\":0},{\"name\":\"close_modal\",\"kind\":\"Any\",\"default\":0}]},{\"type\":\"model\",\"name\":\"ReactiveESM1\",\"properties\":[{\"name\":\"esm_constants\",\"kind\":\"Any\",\"default\":{\"type\":\"map\"}}]},{\"type\":\"model\",\"name\":\"JSComponent1\",\"properties\":[{\"name\":\"esm_constants\",\"kind\":\"Any\",\"default\":{\"type\":\"map\"}}]},{\"type\":\"model\",\"name\":\"ReactComponent1\",\"properties\":[{\"name\":\"esm_constants\",\"kind\":\"Any\",\"default\":{\"type\":\"map\"}}]},{\"type\":\"model\",\"name\":\"AnyWidgetComponent1\",\"properties\":[{\"name\":\"esm_constants\",\"kind\":\"Any\",\"default\":{\"type\":\"map\"}}]},{\"type\":\"model\",\"name\":\"request_value1\",\"properties\":[{\"name\":\"fill\",\"kind\":\"Any\",\"default\":\"none\"},{\"name\":\"_synced\",\"kind\":\"Any\",\"default\":null},{\"name\":\"_request_sync\",\"kind\":\"Any\",\"default\":0}]}]}};\n",
       "  var render_items = [{\"docid\":\"d022f5c8-1530-4177-8211-051fc8a1fb15\",\"roots\":{\"d09806c3-7b42-4c4b-9e71-1493e1e184f1\":\"be509ab9-49c7-4a98-9a4c-2a303bbb6f4e\"},\"root_ids\":[\"d09806c3-7b42-4c4b-9e71-1493e1e184f1\"]}];\n",
       "  var docs = Object.values(docs_json)\n",
       "  if (!docs) {\n",
       "    return\n",
       "  }\n",
       "  const py_version = docs[0].version.replace('rc', '-rc.').replace('.dev', '-dev.')\n",
       "  async function embed_document(root) {\n",
       "    var Bokeh = get_bokeh(root)\n",
       "    await Bokeh.embed.embed_items_notebook(docs_json, render_items);\n",
       "    for (const render_item of render_items) {\n",
       "      for (const root_id of render_item.root_ids) {\n",
       "\tconst id_el = document.getElementById(root_id)\n",
       "\tif (id_el.children.length && id_el.children[0].hasAttribute('data-root-id')) {\n",
       "\t  const root_el = id_el.children[0]\n",
       "\t  root_el.id = root_el.id + '-rendered'\n",
       "\t  for (const child of root_el.children) {\n",
       "            // Ensure JupyterLab does not capture keyboard shortcuts\n",
       "            // see: https://jupyterlab.readthedocs.io/en/4.1.x/extension/notebook.html#keyboard-interaction-model\n",
       "\t    child.setAttribute('data-lm-suppress-shortcuts', 'true')\n",
       "\t  }\n",
       "\t}\n",
       "      }\n",
       "    }\n",
       "  }\n",
       "  function get_bokeh(root) {\n",
       "    if (root.Bokeh === undefined) {\n",
       "      return null\n",
       "    } else if (root.Bokeh.version !== py_version) {\n",
       "      if (root.Bokeh.versions === undefined || !root.Bokeh.versions.has(py_version)) {\n",
       "\treturn null\n",
       "      }\n",
       "      return root.Bokeh.versions.get(py_version);\n",
       "    } else if (root.Bokeh.version === py_version) {\n",
       "      return root.Bokeh\n",
       "    }\n",
       "    return null\n",
       "  }\n",
       "  function is_loaded(root) {\n",
       "    var Bokeh = get_bokeh(root)\n",
       "    return (Bokeh != null && Bokeh.Panel !== undefined)\n",
       "  }\n",
       "  if (is_loaded(root)) {\n",
       "    embed_document(root);\n",
       "  } else {\n",
       "    var attempts = 0;\n",
       "    var timer = setInterval(function(root) {\n",
       "      if (is_loaded(root)) {\n",
       "        clearInterval(timer);\n",
       "        embed_document(root);\n",
       "      } else if (document.readyState == \"complete\") {\n",
       "        attempts++;\n",
       "        if (attempts > 200) {\n",
       "          clearInterval(timer);\n",
       "\t  var Bokeh = get_bokeh(root)\n",
       "\t  if (Bokeh == null || Bokeh.Panel == null) {\n",
       "            console.warn(\"Panel: ERROR: Unable to run Panel code because Bokeh or Panel library is missing\");\n",
       "\t  } else {\n",
       "\t    console.warn(\"Panel: WARNING: Attempting to render but not all required libraries could be resolved.\")\n",
       "\t    embed_document(root)\n",
       "\t  }\n",
       "        }\n",
       "      }\n",
       "    }, 25, root)\n",
       "  }\n",
       "})(window);</script>"
      ]
     },
     "metadata": {
      "application/vnd.holoviews_exec.v0+json": {
       "id": "d09806c3-7b42-4c4b-9e71-1493e1e184f1"
      }
     },
     "output_type": "display_data"
    }
   ],
   "source": [
    "import ast\n",
    "from datetime import timedelta\n",
    "\n",
    "import geopandas as gpd\n",
    "import hvplot.pandas\n",
    "import matplotlib.pyplot as plt\n",
    "import movingpandas as mpd\n",
    "import numpy as np\n",
    "import modin.pandas as pd\n",
    "import seaborn as sns\n",
    "import shapely as shp\n",
    "from geopandas import GeoDataFrame\n",
    "from movingpandas import TrajectoryCollection\n",
    "from pandas import Timestamp"
   ]
  },
  {
   "cell_type": "markdown",
   "id": "966deaf3",
   "metadata": {},
   "source": [
    "### Load Data"
   ]
  },
  {
   "cell_type": "code",
   "execution_count": 2,
   "id": "79d4a11f",
   "metadata": {},
   "outputs": [
    {
     "name": "stderr",
     "output_type": "stream",
     "text": [
      "2025-05-16 20:16:00,644\tINFO worker.py:1888 -- Started a local Ray instance.\n"
     ]
    },
    {
     "name": "stdout",
     "output_type": "stream",
     "text": [
      "\u001b[33m(raylet)\u001b[0m A worker died or was killed while executing a task by an unexpected system error. To troubleshoot the problem, check the logs for the dead worker. RayTask ID: 7ffa968db7ba8e5fe6cf48c345a8f2e4dc1b3d4c01000000 Worker ID: b956d5fa00966419d0c98a09fe8e39c990d8f89b5a1f51241784064c Node ID: 8669088c875fe5bc354fa683c977a2421a8a5728725413f9b575d4eb Worker IP address: 172.23.32.3 Worker port: 42003 Worker PID: 38769 Worker exit type: SYSTEM_ERROR Worker exit detail: Worker unexpectedly exits with a connection error code 2. End of file. There are some potential root causes. (1) The process is killed by SIGKILL by OOM killer due to high memory usage. (2) ray stop --force is called. (3) The worker is crashed unexpectedly due to SIGSEGV or other unexpected errors.\n",
      "\u001b[33m(raylet)\u001b[0m A worker died or was killed while executing a task by an unexpected system error. To troubleshoot the problem, check the logs for the dead worker. RayTask ID: bf8c5cd65e62906379274c96c96474561a9e011f01000000 Worker ID: 6d9621117e3d3bc32f966db7f5bbe30bb25ae5ae794a9f7fbfb08de4 Node ID: 8669088c875fe5bc354fa683c977a2421a8a5728725413f9b575d4eb Worker IP address: 172.23.32.3 Worker port: 41137 Worker PID: 38767 Worker exit type: SYSTEM_ERROR Worker exit detail: Worker unexpectedly exits with a connection error code 2. End of file. There are some potential root causes. (1) The process is killed by SIGKILL by OOM killer due to high memory usage. (2) ray stop --force is called. (3) The worker is crashed unexpectedly due to SIGSEGV or other unexpected errors.\n",
      "\u001b[33m(raylet)\u001b[0m A worker died or was killed while executing a task by an unexpected system error. To troubleshoot the problem, check the logs for the dead worker. RayTask ID: f89fd3a1e8c6064a98f8ac38b1d95000ab1b6efc01000000 Worker ID: 8d8a452cee6bc37382bd60413cf772712ac97c5c5a893a960bd39b4c Node ID: 8669088c875fe5bc354fa683c977a2421a8a5728725413f9b575d4eb Worker IP address: 172.23.32.3 Worker port: 43407 Worker PID: 39162 Worker exit type: SYSTEM_ERROR Worker exit detail: The leased worker has unrecoverable failure. Worker is requested to be destroyed when it is returned. RPC Error message: Socket closed; RPC Error details: \n"
     ]
    },
    {
     "ename": "KeyboardInterrupt",
     "evalue": "",
     "output_type": "error",
     "traceback": [
      "\u001b[31m---------------------------------------------------------------------------\u001b[39m",
      "\u001b[31mKeyboardInterrupt\u001b[39m                         Traceback (most recent call last)",
      "\u001b[36mCell\u001b[39m\u001b[36m \u001b[39m\u001b[32mIn[2]\u001b[39m\u001b[32m, line 1\u001b[39m\n\u001b[32m----> \u001b[39m\u001b[32m1\u001b[39m df = \u001b[43mpd\u001b[49m\u001b[43m.\u001b[49m\u001b[43mread_csv\u001b[49m\u001b[43m(\u001b[49m\u001b[33;43m\"\u001b[39;49m\u001b[33;43mdata/train.csv\u001b[39;49m\u001b[33;43m\"\u001b[39;49m\u001b[43m)\u001b[49m\n",
      "\u001b[36mFile \u001b[39m\u001b[32m~/MICS/S2/KnowledgeDiscovery/project/env/lib/python3.12/site-packages/modin/utils.py:613\u001b[39m, in \u001b[36mexpanduser_path_arg.<locals>.decorator.<locals>.wrapped\u001b[39m\u001b[34m(*args, **kw)\u001b[39m\n\u001b[32m    611\u001b[39m     \u001b[38;5;28;01melif\u001b[39;00m \u001b[38;5;28misinstance\u001b[39m(patharg, Path):\n\u001b[32m    612\u001b[39m         params.arguments[argname] = patharg.expanduser()\n\u001b[32m--> \u001b[39m\u001b[32m613\u001b[39m     \u001b[38;5;28;01mreturn\u001b[39;00m \u001b[43mfunc\u001b[49m\u001b[43m(\u001b[49m\u001b[43m*\u001b[49m\u001b[43mparams\u001b[49m\u001b[43m.\u001b[49m\u001b[43margs\u001b[49m\u001b[43m,\u001b[49m\u001b[43m \u001b[49m\u001b[43m*\u001b[49m\u001b[43m*\u001b[49m\u001b[43mparams\u001b[49m\u001b[43m.\u001b[49m\u001b[43mkwargs\u001b[49m\u001b[43m)\u001b[49m\n\u001b[32m    614\u001b[39m \u001b[38;5;28;01mreturn\u001b[39;00m func(*args, **kw)\n",
      "\u001b[36mFile \u001b[39m\u001b[32m~/MICS/S2/KnowledgeDiscovery/project/env/lib/python3.12/site-packages/modin/logging/logger_decorator.py:144\u001b[39m, in \u001b[36menable_logging.<locals>.decorator.<locals>.run_and_log\u001b[39m\u001b[34m(*args, **kwargs)\u001b[39m\n\u001b[32m    129\u001b[39m \u001b[38;5;250m\u001b[39m\u001b[33;03m\"\"\"\u001b[39;00m\n\u001b[32m    130\u001b[39m \u001b[33;03mCompute function with logging if Modin logging is enabled.\u001b[39;00m\n\u001b[32m    131\u001b[39m \n\u001b[32m   (...)\u001b[39m\u001b[32m    141\u001b[39m \u001b[33;03mAny\u001b[39;00m\n\u001b[32m    142\u001b[39m \u001b[33;03m\"\"\"\u001b[39;00m\n\u001b[32m    143\u001b[39m \u001b[38;5;28;01mif\u001b[39;00m LogMode.get() == \u001b[33m\"\u001b[39m\u001b[33mdisable\u001b[39m\u001b[33m\"\u001b[39m:\n\u001b[32m--> \u001b[39m\u001b[32m144\u001b[39m     \u001b[38;5;28;01mreturn\u001b[39;00m \u001b[43mobj\u001b[49m\u001b[43m(\u001b[49m\u001b[43m*\u001b[49m\u001b[43margs\u001b[49m\u001b[43m,\u001b[49m\u001b[43m \u001b[49m\u001b[43m*\u001b[49m\u001b[43m*\u001b[49m\u001b[43mkwargs\u001b[49m\u001b[43m)\u001b[49m\n\u001b[32m    146\u001b[39m logger = get_logger()\n\u001b[32m    147\u001b[39m logger.log(log_level, start_line)\n",
      "\u001b[36mFile \u001b[39m\u001b[32m~/MICS/S2/KnowledgeDiscovery/project/env/lib/python3.12/site-packages/modin/pandas/io.py:226\u001b[39m, in \u001b[36mread_csv\u001b[39m\u001b[34m(filepath_or_buffer, sep, delimiter, header, names, index_col, usecols, dtype, engine, converters, true_values, false_values, skipinitialspace, skiprows, skipfooter, nrows, na_values, keep_default_na, na_filter, verbose, skip_blank_lines, parse_dates, infer_datetime_format, keep_date_col, date_parser, date_format, dayfirst, cache_dates, iterator, chunksize, compression, thousands, decimal, lineterminator, quotechar, quoting, doublequote, escapechar, comment, encoding, encoding_errors, dialect, on_bad_lines, delim_whitespace, low_memory, memory_map, float_precision, storage_options, dtype_backend)\u001b[39m\n\u001b[32m    224\u001b[39m _, _, _, f_locals = inspect.getargvalues(inspect.currentframe())\n\u001b[32m    225\u001b[39m kwargs = {k: v \u001b[38;5;28;01mfor\u001b[39;00m k, v \u001b[38;5;129;01min\u001b[39;00m f_locals.items() \u001b[38;5;28;01mif\u001b[39;00m k \u001b[38;5;129;01min\u001b[39;00m _pd_read_csv_signature}\n\u001b[32m--> \u001b[39m\u001b[32m226\u001b[39m \u001b[38;5;28;01mreturn\u001b[39;00m \u001b[43m_read\u001b[49m\u001b[43m(\u001b[49m\u001b[43m*\u001b[49m\u001b[43m*\u001b[49m\u001b[43mkwargs\u001b[49m\u001b[43m)\u001b[49m\n",
      "\u001b[36mFile \u001b[39m\u001b[32m~/MICS/S2/KnowledgeDiscovery/project/env/lib/python3.12/site-packages/modin/pandas/io.py:116\u001b[39m, in \u001b[36m_read\u001b[39m\u001b[34m(**kwargs)\u001b[39m\n\u001b[32m    113\u001b[39m \u001b[38;5;28;01mfrom\u001b[39;00m\u001b[38;5;250m \u001b[39m\u001b[34;01mmodin\u001b[39;00m\u001b[34;01m.\u001b[39;00m\u001b[34;01mcore\u001b[39;00m\u001b[34;01m.\u001b[39;00m\u001b[34;01mexecution\u001b[39;00m\u001b[34;01m.\u001b[39;00m\u001b[34;01mdispatching\u001b[39;00m\u001b[34;01m.\u001b[39;00m\u001b[34;01mfactories\u001b[39;00m\u001b[34;01m.\u001b[39;00m\u001b[34;01mdispatcher\u001b[39;00m\u001b[38;5;250m \u001b[39m\u001b[38;5;28;01mimport\u001b[39;00m FactoryDispatcher\n\u001b[32m    115\u001b[39m squeeze = kwargs.pop(\u001b[33m\"\u001b[39m\u001b[33msqueeze\u001b[39m\u001b[33m\"\u001b[39m, \u001b[38;5;28;01mFalse\u001b[39;00m)\n\u001b[32m--> \u001b[39m\u001b[32m116\u001b[39m pd_obj = \u001b[43mFactoryDispatcher\u001b[49m\u001b[43m.\u001b[49m\u001b[43mread_csv\u001b[49m\u001b[43m(\u001b[49m\u001b[43m*\u001b[49m\u001b[43m*\u001b[49m\u001b[43mkwargs\u001b[49m\u001b[43m)\u001b[49m\n\u001b[32m    117\u001b[39m \u001b[38;5;66;03m# This happens when `read_csv` returns a TextFileReader object for iterating through\u001b[39;00m\n\u001b[32m    118\u001b[39m \u001b[38;5;28;01mif\u001b[39;00m \u001b[38;5;28misinstance\u001b[39m(pd_obj, TextFileReader):\n",
      "\u001b[36mFile \u001b[39m\u001b[32m~/MICS/S2/KnowledgeDiscovery/project/env/lib/python3.12/site-packages/modin/core/execution/dispatching/factories/dispatcher.py:207\u001b[39m, in \u001b[36mFactoryDispatcher.read_csv\u001b[39m\u001b[34m(cls, **kwargs)\u001b[39m\n\u001b[32m    204\u001b[39m \u001b[38;5;129m@classmethod\u001b[39m\n\u001b[32m    205\u001b[39m \u001b[38;5;129m@_inherit_docstrings\u001b[39m(factories.BaseFactory._read_csv)\n\u001b[32m    206\u001b[39m \u001b[38;5;28;01mdef\u001b[39;00m\u001b[38;5;250m \u001b[39m\u001b[34mread_csv\u001b[39m(\u001b[38;5;28mcls\u001b[39m, **kwargs):\n\u001b[32m--> \u001b[39m\u001b[32m207\u001b[39m     \u001b[38;5;28;01mreturn\u001b[39;00m \u001b[38;5;28;43mcls\u001b[39;49m\u001b[43m.\u001b[49m\u001b[43mget_factory\u001b[49m\u001b[43m(\u001b[49m\u001b[43m)\u001b[49m\u001b[43m.\u001b[49m\u001b[43m_read_csv\u001b[49m\u001b[43m(\u001b[49m\u001b[43m*\u001b[49m\u001b[43m*\u001b[49m\u001b[43mkwargs\u001b[49m\u001b[43m)\u001b[49m\n",
      "\u001b[36mFile \u001b[39m\u001b[32m~/MICS/S2/KnowledgeDiscovery/project/env/lib/python3.12/site-packages/modin/core/execution/dispatching/factories/factories.py:272\u001b[39m, in \u001b[36mBaseFactory._read_csv\u001b[39m\u001b[34m(cls, **kwargs)\u001b[39m\n\u001b[32m    264\u001b[39m \u001b[38;5;129m@classmethod\u001b[39m\n\u001b[32m    265\u001b[39m \u001b[38;5;129m@doc\u001b[39m(\n\u001b[32m    266\u001b[39m     _doc_io_method_template,\n\u001b[32m   (...)\u001b[39m\u001b[32m    270\u001b[39m )\n\u001b[32m    271\u001b[39m \u001b[38;5;28;01mdef\u001b[39;00m\u001b[38;5;250m \u001b[39m\u001b[34m_read_csv\u001b[39m(\u001b[38;5;28mcls\u001b[39m, **kwargs):\n\u001b[32m--> \u001b[39m\u001b[32m272\u001b[39m     \u001b[38;5;28;01mreturn\u001b[39;00m \u001b[38;5;28;43mcls\u001b[39;49m\u001b[43m.\u001b[49m\u001b[43mio_cls\u001b[49m\u001b[43m.\u001b[49m\u001b[43mread_csv\u001b[49m\u001b[43m(\u001b[49m\u001b[43m*\u001b[49m\u001b[43m*\u001b[49m\u001b[43mkwargs\u001b[49m\u001b[43m)\u001b[49m\n",
      "\u001b[36mFile \u001b[39m\u001b[32m~/MICS/S2/KnowledgeDiscovery/project/env/lib/python3.12/site-packages/modin/logging/logger_decorator.py:144\u001b[39m, in \u001b[36menable_logging.<locals>.decorator.<locals>.run_and_log\u001b[39m\u001b[34m(*args, **kwargs)\u001b[39m\n\u001b[32m    129\u001b[39m \u001b[38;5;250m\u001b[39m\u001b[33;03m\"\"\"\u001b[39;00m\n\u001b[32m    130\u001b[39m \u001b[33;03mCompute function with logging if Modin logging is enabled.\u001b[39;00m\n\u001b[32m    131\u001b[39m \n\u001b[32m   (...)\u001b[39m\u001b[32m    141\u001b[39m \u001b[33;03mAny\u001b[39;00m\n\u001b[32m    142\u001b[39m \u001b[33;03m\"\"\"\u001b[39;00m\n\u001b[32m    143\u001b[39m \u001b[38;5;28;01mif\u001b[39;00m LogMode.get() == \u001b[33m\"\u001b[39m\u001b[33mdisable\u001b[39m\u001b[33m\"\u001b[39m:\n\u001b[32m--> \u001b[39m\u001b[32m144\u001b[39m     \u001b[38;5;28;01mreturn\u001b[39;00m \u001b[43mobj\u001b[49m\u001b[43m(\u001b[49m\u001b[43m*\u001b[49m\u001b[43margs\u001b[49m\u001b[43m,\u001b[49m\u001b[43m \u001b[49m\u001b[43m*\u001b[49m\u001b[43m*\u001b[49m\u001b[43mkwargs\u001b[49m\u001b[43m)\u001b[49m\n\u001b[32m    146\u001b[39m logger = get_logger()\n\u001b[32m    147\u001b[39m logger.log(log_level, start_line)\n",
      "\u001b[36mFile \u001b[39m\u001b[32m~/MICS/S2/KnowledgeDiscovery/project/env/lib/python3.12/site-packages/modin/core/io/file_dispatcher.py:165\u001b[39m, in \u001b[36mFileDispatcher.read\u001b[39m\u001b[34m(cls, *args, **kwargs)\u001b[39m\n\u001b[32m    163\u001b[39m     \u001b[38;5;28;01mreturn\u001b[39;00m \u001b[38;5;28mcls\u001b[39m.single_worker_read(fname, *args, reason=\u001b[38;5;28mstr\u001b[39m(err), **kwargs)\n\u001b[32m    164\u001b[39m \u001b[38;5;66;03m# TextFileReader can also be returned from `_read`.\u001b[39;00m\n\u001b[32m--> \u001b[39m\u001b[32m165\u001b[39m \u001b[38;5;28;01mif\u001b[39;00m \u001b[38;5;129;01mnot\u001b[39;00m AsyncReadMode.get() \u001b[38;5;129;01mand\u001b[39;00m \u001b[38;5;28;43mhasattr\u001b[39;49m\u001b[43m(\u001b[49m\u001b[43mquery_compiler\u001b[49m\u001b[43m,\u001b[49m\u001b[43m \u001b[49m\u001b[33;43m\"\u001b[39;49m\u001b[33;43mdtypes\u001b[39;49m\u001b[33;43m\"\u001b[39;49m\u001b[43m)\u001b[49m:\n\u001b[32m    166\u001b[39m     \u001b[38;5;66;03m# at the moment it is not possible to use `wait_partitions` function;\u001b[39;00m\n\u001b[32m    167\u001b[39m     \u001b[38;5;66;03m# in a situation where the reading function is called in a row with the\u001b[39;00m\n\u001b[32m    168\u001b[39m     \u001b[38;5;66;03m# same parameters, `wait_partitions` considers that we have waited for\u001b[39;00m\n\u001b[32m    169\u001b[39m     \u001b[38;5;66;03m# the end of remote calculations, however, when trying to materialize the\u001b[39;00m\n\u001b[32m    170\u001b[39m     \u001b[38;5;66;03m# received data, it is clear that the calculations have not yet ended.\u001b[39;00m\n\u001b[32m    171\u001b[39m     \u001b[38;5;66;03m# for example, `test_io_exp.py::test_read_evaluated_dict` is failed because of that.\u001b[39;00m\n\u001b[32m    172\u001b[39m     \u001b[38;5;66;03m# see #5944 for details\u001b[39;00m\n\u001b[32m    173\u001b[39m     _ = query_compiler.dtypes\n\u001b[32m    174\u001b[39m \u001b[38;5;28;01mreturn\u001b[39;00m query_compiler\n",
      "\u001b[36mFile \u001b[39m\u001b[32m~/MICS/S2/KnowledgeDiscovery/project/env/lib/python3.12/site-packages/modin/core/storage_formats/pandas/query_compiler.py:380\u001b[39m, in \u001b[36mPandasQueryCompiler.dtypes\u001b[39m\u001b[34m(self)\u001b[39m\n\u001b[32m    378\u001b[39m \u001b[38;5;129m@property\u001b[39m\n\u001b[32m    379\u001b[39m \u001b[38;5;28;01mdef\u001b[39;00m\u001b[38;5;250m \u001b[39m\u001b[34mdtypes\u001b[39m(\u001b[38;5;28mself\u001b[39m) -> pandas.Series:\n\u001b[32m--> \u001b[39m\u001b[32m380\u001b[39m     \u001b[38;5;28;01mreturn\u001b[39;00m \u001b[38;5;28;43mself\u001b[39;49m\u001b[43m.\u001b[49m\u001b[43m_modin_frame\u001b[49m\u001b[43m.\u001b[49m\u001b[43mdtypes\u001b[49m\n",
      "\u001b[36mFile \u001b[39m\u001b[32m~/MICS/S2/KnowledgeDiscovery/project/env/lib/python3.12/site-packages/modin/core/dataframe/pandas/dataframe/dataframe.py:424\u001b[39m, in \u001b[36mPandasDataframe.dtypes\u001b[39m\u001b[34m(self)\u001b[39m\n\u001b[32m    415\u001b[39m \u001b[38;5;250m\u001b[39m\u001b[33;03m\"\"\"\u001b[39;00m\n\u001b[32m    416\u001b[39m \u001b[33;03mCompute the data types if they are not cached.\u001b[39;00m\n\u001b[32m    417\u001b[39m \n\u001b[32m   (...)\u001b[39m\u001b[32m    421\u001b[39m \u001b[33;03m    A pandas Series containing the data types for this dataframe.\u001b[39;00m\n\u001b[32m    422\u001b[39m \u001b[33;03m\"\"\"\u001b[39;00m\n\u001b[32m    423\u001b[39m \u001b[38;5;28;01mif\u001b[39;00m \u001b[38;5;28mself\u001b[39m.has_dtypes_cache:\n\u001b[32m--> \u001b[39m\u001b[32m424\u001b[39m     dtypes = \u001b[38;5;28;43mself\u001b[39;49m\u001b[43m.\u001b[49m\u001b[43m_dtypes\u001b[49m\u001b[43m.\u001b[49m\u001b[43mget\u001b[49m\u001b[43m(\u001b[49m\u001b[43m)\u001b[49m\n\u001b[32m    425\u001b[39m \u001b[38;5;28;01melse\u001b[39;00m:\n\u001b[32m    426\u001b[39m     dtypes = \u001b[38;5;28mself\u001b[39m._compute_dtypes()\n",
      "\u001b[36mFile \u001b[39m\u001b[32m~/MICS/S2/KnowledgeDiscovery/project/env/lib/python3.12/site-packages/modin/core/dataframe/pandas/metadata/dtypes.py:924\u001b[39m, in \u001b[36mModinDtypes.get\u001b[39m\u001b[34m(self)\u001b[39m\n\u001b[32m    922\u001b[39m \u001b[38;5;28;01mif\u001b[39;00m \u001b[38;5;129;01mnot\u001b[39;00m \u001b[38;5;28mself\u001b[39m.is_materialized:\n\u001b[32m    923\u001b[39m     \u001b[38;5;28;01mif\u001b[39;00m \u001b[38;5;28mcallable\u001b[39m(\u001b[38;5;28mself\u001b[39m._value):\n\u001b[32m--> \u001b[39m\u001b[32m924\u001b[39m         \u001b[38;5;28mself\u001b[39m._value = \u001b[38;5;28;43mself\u001b[39;49m\u001b[43m.\u001b[49m\u001b[43m_value\u001b[49m\u001b[43m(\u001b[49m\u001b[43m)\u001b[49m\n\u001b[32m    925\u001b[39m         \u001b[38;5;28;01mif\u001b[39;00m \u001b[38;5;28mself\u001b[39m._value \u001b[38;5;129;01mis\u001b[39;00m \u001b[38;5;28;01mNone\u001b[39;00m:\n\u001b[32m    926\u001b[39m             \u001b[38;5;28mself\u001b[39m._value = pandas.Series([])\n",
      "\u001b[36mFile \u001b[39m\u001b[32m~/MICS/S2/KnowledgeDiscovery/project/env/lib/python3.12/site-packages/modin/core/io/text/text_file_dispatcher.py:946\u001b[39m, in \u001b[36mTextFileDispatcher._get_new_qc.<locals>.<lambda>\u001b[39m\u001b[34m()\u001b[39m\n\u001b[32m    904\u001b[39m \u001b[38;5;250m\u001b[39m\u001b[33;03m\"\"\"\u001b[39;00m\n\u001b[32m    905\u001b[39m \u001b[33;03mGet new query compiler from data received from workers.\u001b[39;00m\n\u001b[32m    906\u001b[39m \n\u001b[32m   (...)\u001b[39m\u001b[32m    934\u001b[39m \u001b[33;03m    New query compiler, created from `new_frame`.\u001b[39;00m\n\u001b[32m    935\u001b[39m \u001b[33;03m\"\"\"\u001b[39;00m\n\u001b[32m    936\u001b[39m partition_ids = \u001b[38;5;28mcls\u001b[39m.build_partition(\n\u001b[32m    937\u001b[39m     partition_ids, [\u001b[38;5;28;01mNone\u001b[39;00m] * \u001b[38;5;28mlen\u001b[39m(index_ids), column_widths\n\u001b[32m    938\u001b[39m )\n\u001b[32m    940\u001b[39m new_frame = \u001b[38;5;28mcls\u001b[39m.frame_cls(\n\u001b[32m    941\u001b[39m     partition_ids,\n\u001b[32m    942\u001b[39m     \u001b[38;5;28;01mlambda\u001b[39;00m: \u001b[38;5;28mcls\u001b[39m._define_index(index_ids, index_name),\n\u001b[32m    943\u001b[39m     column_names,\n\u001b[32m    944\u001b[39m     \u001b[38;5;28;01mNone\u001b[39;00m,\n\u001b[32m    945\u001b[39m     column_widths,\n\u001b[32m--> \u001b[39m\u001b[32m946\u001b[39m     dtypes=\u001b[38;5;28;01mlambda\u001b[39;00m: \u001b[38;5;28;43mcls\u001b[39;49m\u001b[43m.\u001b[49m\u001b[43mget_dtypes\u001b[49m\u001b[43m(\u001b[49m\u001b[43mdtypes_ids\u001b[49m\u001b[43m,\u001b[49m\u001b[43m \u001b[49m\u001b[43mcolumn_names\u001b[49m\u001b[43m)\u001b[49m,\n\u001b[32m    947\u001b[39m )\n\u001b[32m    948\u001b[39m new_query_compiler = \u001b[38;5;28mcls\u001b[39m.query_compiler_cls(new_frame)\n\u001b[32m    949\u001b[39m skipfooter = kwargs.get(\u001b[33m\"\u001b[39m\u001b[33mskipfooter\u001b[39m\u001b[33m\"\u001b[39m, \u001b[38;5;28;01mNone\u001b[39;00m)\n",
      "\u001b[36mFile \u001b[39m\u001b[32m~/MICS/S2/KnowledgeDiscovery/project/env/lib/python3.12/site-packages/modin/logging/logger_decorator.py:144\u001b[39m, in \u001b[36menable_logging.<locals>.decorator.<locals>.run_and_log\u001b[39m\u001b[34m(*args, **kwargs)\u001b[39m\n\u001b[32m    129\u001b[39m \u001b[38;5;250m\u001b[39m\u001b[33;03m\"\"\"\u001b[39;00m\n\u001b[32m    130\u001b[39m \u001b[33;03mCompute function with logging if Modin logging is enabled.\u001b[39;00m\n\u001b[32m    131\u001b[39m \n\u001b[32m   (...)\u001b[39m\u001b[32m    141\u001b[39m \u001b[33;03mAny\u001b[39;00m\n\u001b[32m    142\u001b[39m \u001b[33;03m\"\"\"\u001b[39;00m\n\u001b[32m    143\u001b[39m \u001b[38;5;28;01mif\u001b[39;00m LogMode.get() == \u001b[33m\"\u001b[39m\u001b[33mdisable\u001b[39m\u001b[33m\"\u001b[39m:\n\u001b[32m--> \u001b[39m\u001b[32m144\u001b[39m     \u001b[38;5;28;01mreturn\u001b[39;00m \u001b[43mobj\u001b[49m\u001b[43m(\u001b[49m\u001b[43m*\u001b[49m\u001b[43margs\u001b[49m\u001b[43m,\u001b[49m\u001b[43m \u001b[49m\u001b[43m*\u001b[49m\u001b[43m*\u001b[49m\u001b[43mkwargs\u001b[49m\u001b[43m)\u001b[49m\n\u001b[32m    146\u001b[39m logger = get_logger()\n\u001b[32m    147\u001b[39m logger.log(log_level, start_line)\n",
      "\u001b[36mFile \u001b[39m\u001b[32m~/MICS/S2/KnowledgeDiscovery/project/env/lib/python3.12/site-packages/modin/core/storage_formats/pandas/parsers.py:257\u001b[39m, in \u001b[36mPandasParser.get_dtypes\u001b[39m\u001b[34m(cls, dtypes_ids, columns)\u001b[39m\n\u001b[32m    254\u001b[39m     \u001b[38;5;28;01mreturn\u001b[39;00m \u001b[38;5;28;01mNone\u001b[39;00m\n\u001b[32m    255\u001b[39m \u001b[38;5;66;03m# each element in `partitions_dtypes` is a Series, where column names are\u001b[39;00m\n\u001b[32m    256\u001b[39m \u001b[38;5;66;03m# used as index and types of columns for different partitions are used as values\u001b[39;00m\n\u001b[32m--> \u001b[39m\u001b[32m257\u001b[39m partitions_dtypes = \u001b[38;5;28;43mcls\u001b[39;49m\u001b[43m.\u001b[49m\u001b[43mmaterialize\u001b[49m\u001b[43m(\u001b[49m\u001b[43mdtypes_ids\u001b[49m\u001b[43m)\u001b[49m\n\u001b[32m    258\u001b[39m \u001b[38;5;28;01mif\u001b[39;00m \u001b[38;5;28mall\u001b[39m([\u001b[38;5;28mlen\u001b[39m(dtype) == \u001b[32m0\u001b[39m \u001b[38;5;28;01mfor\u001b[39;00m dtype \u001b[38;5;129;01min\u001b[39;00m partitions_dtypes]):\n\u001b[32m    259\u001b[39m     \u001b[38;5;28;01mreturn\u001b[39;00m \u001b[38;5;28;01mNone\u001b[39;00m\n",
      "\u001b[36mFile \u001b[39m\u001b[32m~/MICS/S2/KnowledgeDiscovery/project/env/lib/python3.12/site-packages/modin/core/execution/ray/common/engine_wrapper.py:139\u001b[39m, in \u001b[36mRayWrapper.materialize\u001b[39m\u001b[34m(cls, obj_id)\u001b[39m\n\u001b[32m    136\u001b[39m     \u001b[38;5;28;01mreturn\u001b[39;00m ray.get(obj_id) \u001b[38;5;28;01mif\u001b[39;00m \u001b[38;5;28misinstance\u001b[39m(obj_id, ray.ObjectRef) \u001b[38;5;28;01melse\u001b[39;00m obj_id\n\u001b[32m    138\u001b[39m \u001b[38;5;28;01mif\u001b[39;00m \u001b[38;5;28mall\u001b[39m(\u001b[38;5;28misinstance\u001b[39m(obj, ray.ObjectRef) \u001b[38;5;28;01mfor\u001b[39;00m obj \u001b[38;5;129;01min\u001b[39;00m obj_id):\n\u001b[32m--> \u001b[39m\u001b[32m139\u001b[39m     \u001b[38;5;28;01mreturn\u001b[39;00m \u001b[43mray\u001b[49m\u001b[43m.\u001b[49m\u001b[43mget\u001b[49m\u001b[43m(\u001b[49m\u001b[43mobj_id\u001b[49m\u001b[43m)\u001b[49m\n\u001b[32m    141\u001b[39m ids = {}\n\u001b[32m    142\u001b[39m result = []\n",
      "\u001b[36mFile \u001b[39m\u001b[32m~/MICS/S2/KnowledgeDiscovery/project/env/lib/python3.12/site-packages/ray/_private/auto_init_hook.py:21\u001b[39m, in \u001b[36mwrap_auto_init.<locals>.auto_init_wrapper\u001b[39m\u001b[34m(*args, **kwargs)\u001b[39m\n\u001b[32m     18\u001b[39m \u001b[38;5;129m@wraps\u001b[39m(fn)\n\u001b[32m     19\u001b[39m \u001b[38;5;28;01mdef\u001b[39;00m\u001b[38;5;250m \u001b[39m\u001b[34mauto_init_wrapper\u001b[39m(*args, **kwargs):\n\u001b[32m     20\u001b[39m     auto_init_ray()\n\u001b[32m---> \u001b[39m\u001b[32m21\u001b[39m     \u001b[38;5;28;01mreturn\u001b[39;00m \u001b[43mfn\u001b[49m\u001b[43m(\u001b[49m\u001b[43m*\u001b[49m\u001b[43margs\u001b[49m\u001b[43m,\u001b[49m\u001b[43m \u001b[49m\u001b[43m*\u001b[49m\u001b[43m*\u001b[49m\u001b[43mkwargs\u001b[49m\u001b[43m)\u001b[49m\n",
      "\u001b[36mFile \u001b[39m\u001b[32m~/MICS/S2/KnowledgeDiscovery/project/env/lib/python3.12/site-packages/ray/_private/client_mode_hook.py:103\u001b[39m, in \u001b[36mclient_mode_hook.<locals>.wrapper\u001b[39m\u001b[34m(*args, **kwargs)\u001b[39m\n\u001b[32m    101\u001b[39m     \u001b[38;5;28;01mif\u001b[39;00m func.\u001b[34m__name__\u001b[39m != \u001b[33m\"\u001b[39m\u001b[33minit\u001b[39m\u001b[33m\"\u001b[39m \u001b[38;5;129;01mor\u001b[39;00m is_client_mode_enabled_by_default:\n\u001b[32m    102\u001b[39m         \u001b[38;5;28;01mreturn\u001b[39;00m \u001b[38;5;28mgetattr\u001b[39m(ray, func.\u001b[34m__name__\u001b[39m)(*args, **kwargs)\n\u001b[32m--> \u001b[39m\u001b[32m103\u001b[39m \u001b[38;5;28;01mreturn\u001b[39;00m \u001b[43mfunc\u001b[49m\u001b[43m(\u001b[49m\u001b[43m*\u001b[49m\u001b[43margs\u001b[49m\u001b[43m,\u001b[49m\u001b[43m \u001b[49m\u001b[43m*\u001b[49m\u001b[43m*\u001b[49m\u001b[43mkwargs\u001b[49m\u001b[43m)\u001b[49m\n",
      "\u001b[36mFile \u001b[39m\u001b[32m~/MICS/S2/KnowledgeDiscovery/project/env/lib/python3.12/site-packages/ray/_private/worker.py:2822\u001b[39m, in \u001b[36mget\u001b[39m\u001b[34m(object_refs, timeout)\u001b[39m\n\u001b[32m   2816\u001b[39m     \u001b[38;5;28;01mraise\u001b[39;00m \u001b[38;5;167;01mValueError\u001b[39;00m(\n\u001b[32m   2817\u001b[39m         \u001b[33mf\u001b[39m\u001b[33m\"\u001b[39m\u001b[33mInvalid type of object refs, \u001b[39m\u001b[38;5;132;01m{\u001b[39;00m\u001b[38;5;28mtype\u001b[39m(object_refs)\u001b[38;5;132;01m}\u001b[39;00m\u001b[33m, is given. \u001b[39m\u001b[33m\"\u001b[39m\n\u001b[32m   2818\u001b[39m         \u001b[33m\"\u001b[39m\u001b[33m'\u001b[39m\u001b[33mobject_refs\u001b[39m\u001b[33m'\u001b[39m\u001b[33m must either be an ObjectRef or a list of ObjectRefs. \u001b[39m\u001b[33m\"\u001b[39m\n\u001b[32m   2819\u001b[39m     )\n\u001b[32m   2821\u001b[39m \u001b[38;5;66;03m# TODO(ujvl): Consider how to allow user to retrieve the ready objects.\u001b[39;00m\n\u001b[32m-> \u001b[39m\u001b[32m2822\u001b[39m values, debugger_breakpoint = \u001b[43mworker\u001b[49m\u001b[43m.\u001b[49m\u001b[43mget_objects\u001b[49m\u001b[43m(\u001b[49m\u001b[43mobject_refs\u001b[49m\u001b[43m,\u001b[49m\u001b[43m \u001b[49m\u001b[43mtimeout\u001b[49m\u001b[43m=\u001b[49m\u001b[43mtimeout\u001b[49m\u001b[43m)\u001b[49m\n\u001b[32m   2823\u001b[39m \u001b[38;5;28;01mfor\u001b[39;00m i, value \u001b[38;5;129;01min\u001b[39;00m \u001b[38;5;28menumerate\u001b[39m(values):\n\u001b[32m   2824\u001b[39m     \u001b[38;5;28;01mif\u001b[39;00m \u001b[38;5;28misinstance\u001b[39m(value, RayError):\n",
      "\u001b[36mFile \u001b[39m\u001b[32m~/MICS/S2/KnowledgeDiscovery/project/env/lib/python3.12/site-packages/ray/_private/worker.py:904\u001b[39m, in \u001b[36mWorker.get_objects\u001b[39m\u001b[34m(self, object_refs, timeout, return_exceptions, skip_deserialization)\u001b[39m\n\u001b[32m    894\u001b[39m         \u001b[38;5;28;01mraise\u001b[39;00m \u001b[38;5;167;01mTypeError\u001b[39;00m(\n\u001b[32m    895\u001b[39m             \u001b[33mf\u001b[39m\u001b[33m\"\u001b[39m\u001b[33mAttempting to call `get` on the value \u001b[39m\u001b[38;5;132;01m{\u001b[39;00mobject_ref\u001b[38;5;132;01m}\u001b[39;00m\u001b[33m, \u001b[39m\u001b[33m\"\u001b[39m\n\u001b[32m    896\u001b[39m             \u001b[33m\"\u001b[39m\u001b[33mwhich is not an ray.ObjectRef.\u001b[39m\u001b[33m\"\u001b[39m\n\u001b[32m    897\u001b[39m         )\n\u001b[32m    899\u001b[39m timeout_ms = (\n\u001b[32m    900\u001b[39m     \u001b[38;5;28mint\u001b[39m(timeout * \u001b[32m1000\u001b[39m) \u001b[38;5;28;01mif\u001b[39;00m timeout \u001b[38;5;129;01mis\u001b[39;00m \u001b[38;5;129;01mnot\u001b[39;00m \u001b[38;5;28;01mNone\u001b[39;00m \u001b[38;5;129;01mand\u001b[39;00m timeout != -\u001b[32m1\u001b[39m \u001b[38;5;28;01melse\u001b[39;00m -\u001b[32m1\u001b[39m\n\u001b[32m    901\u001b[39m )\n\u001b[32m    902\u001b[39m data_metadata_pairs: List[\n\u001b[32m    903\u001b[39m     Tuple[ray._raylet.Buffer, \u001b[38;5;28mbytes\u001b[39m]\n\u001b[32m--> \u001b[39m\u001b[32m904\u001b[39m ] = \u001b[38;5;28;43mself\u001b[39;49m\u001b[43m.\u001b[49m\u001b[43mcore_worker\u001b[49m\u001b[43m.\u001b[49m\u001b[43mget_objects\u001b[49m\u001b[43m(\u001b[49m\n\u001b[32m    905\u001b[39m \u001b[43m    \u001b[49m\u001b[43mobject_refs\u001b[49m\u001b[43m,\u001b[49m\n\u001b[32m    906\u001b[39m \u001b[43m    \u001b[49m\u001b[43mtimeout_ms\u001b[49m\u001b[43m,\u001b[49m\n\u001b[32m    907\u001b[39m \u001b[43m\u001b[49m\u001b[43m)\u001b[49m\n\u001b[32m    909\u001b[39m debugger_breakpoint = \u001b[33mb\u001b[39m\u001b[33m\"\u001b[39m\u001b[33m\"\u001b[39m\n\u001b[32m    910\u001b[39m \u001b[38;5;28;01mfor\u001b[39;00m data, metadata \u001b[38;5;129;01min\u001b[39;00m data_metadata_pairs:\n",
      "\u001b[36mFile \u001b[39m\u001b[32mpython/ray/_raylet.pyx:3196\u001b[39m, in \u001b[36mray._raylet.CoreWorker.get_objects\u001b[39m\u001b[34m()\u001b[39m\n",
      "\u001b[36mFile \u001b[39m\u001b[32mpython/ray/includes/common.pxi:83\u001b[39m, in \u001b[36mray._raylet.check_status\u001b[39m\u001b[34m()\u001b[39m\n",
      "\u001b[31mKeyboardInterrupt\u001b[39m: "
     ]
    }
   ],
   "source": [
    "df = pd.read_csv(\"data/train.csv\")"
   ]
  },
  {
   "cell_type": "markdown",
   "id": "d2b6b7b9",
   "metadata": {},
   "source": [
    "## Missing Values"
   ]
  },
  {
   "cell_type": "code",
   "execution_count": null,
   "id": "f569afbc",
   "metadata": {},
   "outputs": [
    {
     "data": {
      "text/plain": [
       "MISSING_DATA\n",
       "False    1710660\n",
       "True          10\n",
       "Name: count, dtype: int64"
      ]
     },
     "execution_count": 3,
     "metadata": {},
     "output_type": "execute_result"
    }
   ],
   "source": [
    "# How many rows have missing values?\n",
    "df[\"MISSING_DATA\"].value_counts()"
   ]
  },
  {
   "cell_type": "code",
   "execution_count": null,
   "id": "c38f1394",
   "metadata": {},
   "outputs": [],
   "source": [
    "# Remove rows with missing data\n",
    "df = df[df[\"MISSING_DATA\"] == False].drop(columns=[\"MISSING_DATA\"])"
   ]
  },
  {
   "cell_type": "markdown",
   "id": "c0a9fabd",
   "metadata": {},
   "source": [
    "### Sanity Check for the `ORIGIN_CALL` and `ORIGIN_STAND` Columns"
   ]
  },
  {
   "cell_type": "code",
   "execution_count": null,
   "id": "d098bd0c",
   "metadata": {},
   "outputs": [
    {
     "data": {
      "text/html": [
       "<div>\n",
       "<style scoped>\n",
       "    .dataframe tbody tr th:only-of-type {\n",
       "        vertical-align: middle;\n",
       "    }\n",
       "\n",
       "    .dataframe tbody tr th {\n",
       "        vertical-align: top;\n",
       "    }\n",
       "\n",
       "    .dataframe thead th {\n",
       "        text-align: right;\n",
       "    }\n",
       "</style>\n",
       "<table border=\"1\" class=\"dataframe\">\n",
       "  <thead>\n",
       "    <tr style=\"text-align: right;\">\n",
       "      <th></th>\n",
       "      <th>ORIGIN_CALL</th>\n",
       "    </tr>\n",
       "    <tr>\n",
       "      <th>CALL_TYPE</th>\n",
       "      <th></th>\n",
       "    </tr>\n",
       "  </thead>\n",
       "  <tbody>\n",
       "    <tr>\n",
       "      <th>A</th>\n",
       "      <td>364769</td>\n",
       "    </tr>\n",
       "    <tr>\n",
       "      <th>B</th>\n",
       "      <td>0</td>\n",
       "    </tr>\n",
       "    <tr>\n",
       "      <th>C</th>\n",
       "      <td>0</td>\n",
       "    </tr>\n",
       "  </tbody>\n",
       "</table>\n",
       "</div>"
      ],
      "text/plain": [
       "           ORIGIN_CALL\n",
       "CALL_TYPE             \n",
       "A               364769\n",
       "B                    0\n",
       "C                    0"
      ]
     },
     "execution_count": 5,
     "metadata": {},
     "output_type": "execute_result"
    }
   ],
   "source": [
    "# There shouldn't be any rows with origin_call set that are not of type A\n",
    "df[[\"ORIGIN_CALL\", \"CALL_TYPE\"]].groupby(\"CALL_TYPE\").count()"
   ]
  },
  {
   "cell_type": "code",
   "execution_count": null,
   "id": "59a5895b",
   "metadata": {},
   "outputs": [
    {
     "data": {
      "text/html": [
       "<div>\n",
       "<style scoped>\n",
       "    .dataframe tbody tr th:only-of-type {\n",
       "        vertical-align: middle;\n",
       "    }\n",
       "\n",
       "    .dataframe tbody tr th {\n",
       "        vertical-align: top;\n",
       "    }\n",
       "\n",
       "    .dataframe thead th {\n",
       "        text-align: right;\n",
       "    }\n",
       "</style>\n",
       "<table border=\"1\" class=\"dataframe\">\n",
       "  <thead>\n",
       "    <tr style=\"text-align: right;\">\n",
       "      <th></th>\n",
       "      <th>ORIGIN_STAND</th>\n",
       "    </tr>\n",
       "    <tr>\n",
       "      <th>CALL_TYPE</th>\n",
       "      <th></th>\n",
       "    </tr>\n",
       "  </thead>\n",
       "  <tbody>\n",
       "    <tr>\n",
       "      <th>A</th>\n",
       "      <td>0</td>\n",
       "    </tr>\n",
       "    <tr>\n",
       "      <th>B</th>\n",
       "      <td>806576</td>\n",
       "    </tr>\n",
       "    <tr>\n",
       "      <th>C</th>\n",
       "      <td>0</td>\n",
       "    </tr>\n",
       "  </tbody>\n",
       "</table>\n",
       "</div>"
      ],
      "text/plain": [
       "           ORIGIN_STAND\n",
       "CALL_TYPE              \n",
       "A                     0\n",
       "B                806576\n",
       "C                     0"
      ]
     },
     "execution_count": 6,
     "metadata": {},
     "output_type": "execute_result"
    },
    {
     "ename": "",
     "evalue": "",
     "output_type": "error",
     "traceback": [
      "\u001b[1;31mThe Kernel crashed while executing code in the current cell or a previous cell. \n",
      "\u001b[1;31mPlease review the code in the cell(s) to identify a possible cause of the failure. \n",
      "\u001b[1;31mClick <a href='https://aka.ms/vscodeJupyterKernelCrash'>here</a> for more info. \n",
      "\u001b[1;31mView Jupyter <a href='command:jupyter.viewOutput'>log</a> for further details."
     ]
    }
   ],
   "source": [
    "# There shouldn't be any rows with origin_stand set that are not of type B\n",
    "df[[\"ORIGIN_STAND\", \"CALL_TYPE\"]].groupby(\"CALL_TYPE\").count()"
   ]
  },
  {
   "cell_type": "markdown",
   "id": "a01b2f3a",
   "metadata": {},
   "source": [
    "## Preprocessing"
   ]
  },
  {
   "cell_type": "code",
   "execution_count": null,
   "id": "cf146d1a",
   "metadata": {},
   "outputs": [],
   "source": [
    "df = df.convert_dtypes()\n",
    "\n",
    "df[\"TIMESTAMP\"] = df[\"TIMESTAMP\"].map(lambda x: Timestamp(x, unit=\"s\", tz=\"Portugal\"))\n",
    "df[\"TIMESTAMP\"] = df[\"TIMESTAMP\"].dt.tz_convert(\"UTC\").dt.tz_localize(None)\n",
    "\n",
    "# df[\"TRIP_ID\"] = df[\"TRIP_ID\"].map(lambda x: int(x[1:]))\n",
    "\n",
    "df[\"POLYLINE\"] = df[\"POLYLINE\"].map(ast.literal_eval)\n",
    "df[\"LONGITUDE\"] = df[\"POLYLINE\"].map(lambda coords: [c[0] for c in coords])\n",
    "df[\"LATITUDE\"] = df[\"POLYLINE\"].map(lambda coords: [c[1] for c in coords])\n",
    "df[\"TIMESTAMP\"] = df.apply(\n",
    "    lambda row: [row[\"TIMESTAMP\"] + timedelta(seconds=15 * i) for i in range(len(row[\"POLYLINE\"]))], axis=1)\n",
    "\n",
    "df[\"START\"] = df[\"POLYLINE\"].map(lambda coords: coords[0])\n",
    "df[\"END\"] = df[\"POLYLINE\"].map(lambda coords: coords[-1])\n",
    "\n",
    "exploded_df = df.drop(columns=[\"POLYLINE\"]).copy()\n",
    "exploded_df = df.explode([\"LONGITUDE\", \"LATITUDE\", \"TIMESTAMP\"])\n",
    "exploded_df"
   ]
  },
  {
   "cell_type": "markdown",
   "id": "a17eb811",
   "metadata": {},
   "source": [
    "## Analysis"
   ]
  },
  {
   "cell_type": "markdown",
   "id": "d5770b92",
   "metadata": {},
   "source": [
    "### Taxis"
   ]
  },
  {
   "cell_type": "code",
   "execution_count": null,
   "id": "d0b55eeb",
   "metadata": {},
   "outputs": [
    {
     "data": {
      "text/plain": [
       "244"
      ]
     },
     "execution_count": 31,
     "metadata": {},
     "output_type": "execute_result"
    }
   ],
   "source": [
    "# How many taxis are there?\n",
    "df[\"TAXI_ID\"].nunique()"
   ]
  },
  {
   "cell_type": "code",
   "execution_count": null,
   "id": "63bf130b",
   "metadata": {},
   "outputs": [
    {
     "data": {
      "text/plain": [
       "320"
      ]
     },
     "execution_count": 32,
     "metadata": {},
     "output_type": "execute_result"
    }
   ],
   "source": [
    "# How many trips are we analysing?\n",
    "df[\"TRIP_ID\"].nunique()"
   ]
  },
  {
   "cell_type": "code",
   "execution_count": null,
   "id": "d5e19c04",
   "metadata": {},
   "outputs": [
    {
     "data": {
      "text/html": [
       "<div>\n",
       "<style scoped>\n",
       "    .dataframe tbody tr th:only-of-type {\n",
       "        vertical-align: middle;\n",
       "    }\n",
       "\n",
       "    .dataframe tbody tr th {\n",
       "        vertical-align: top;\n",
       "    }\n",
       "\n",
       "    .dataframe thead th {\n",
       "        text-align: right;\n",
       "    }\n",
       "</style>\n",
       "<table border=\"1\" class=\"dataframe\">\n",
       "  <thead>\n",
       "    <tr style=\"text-align: right;\">\n",
       "      <th></th>\n",
       "      <th>TRIP_ID</th>\n",
       "      <th>CALL_TYPE</th>\n",
       "      <th>ORIGIN_CALL</th>\n",
       "      <th>ORIGIN_STAND</th>\n",
       "      <th>TAXI_ID</th>\n",
       "      <th>TIMESTAMP</th>\n",
       "      <th>DAY_TYPE</th>\n",
       "      <th>POLYLINE</th>\n",
       "      <th>LONGITUDE</th>\n",
       "      <th>LATITUDE</th>\n",
       "      <th>START</th>\n",
       "      <th>END</th>\n",
       "    </tr>\n",
       "  </thead>\n",
       "  <tbody>\n",
       "  </tbody>\n",
       "</table>\n",
       "</div>"
      ],
      "text/plain": [
       "Empty DataFrame\n",
       "Columns: [TRIP_ID, CALL_TYPE, ORIGIN_CALL, ORIGIN_STAND, TAXI_ID, TIMESTAMP, DAY_TYPE, POLYLINE, LONGITUDE, LATITUDE, START, END]\n",
       "Index: []"
      ]
     },
     "execution_count": 35,
     "metadata": {},
     "output_type": "execute_result"
    }
   ],
   "source": [
    "# Which rows have day type B?\n",
    "df[df[\"DAY_TYPE\"] == \"B\"]"
   ]
  },
  {
   "cell_type": "markdown",
   "id": "3e784765",
   "metadata": {},
   "source": [
    "### Call Type Distribution"
   ]
  },
  {
   "cell_type": "code",
   "execution_count": null,
   "id": "2dd3cf9d",
   "metadata": {},
   "outputs": [
    {
     "data": {
      "image/png": "[encoded data removed]",
      "text/plain": [
       "<Figure size 1000x1000 with 1 Axes>"
      ]
     },
     "metadata": {},
     "output_type": "display_data"
    }
   ],
   "source": [
    "calltype_meaning = {\n",
    "    \"A\": \"Dispatched from central\",\n",
    "    \"B\": \"Demanded directly at the stand\",\n",
    "    \"C\": \"Demanded on a random street\"\n",
    "}\n",
    "sns.set_theme(style=\"whitegrid\", palette=\"pastel\", context=\"notebook\")\n",
    "\n",
    "calltype_counts = df[\"CALL_TYPE\"].value_counts()\n",
    "\n",
    "def autopct_format(pct):\n",
    "    total = sum(calltype_counts)\n",
    "    count = int(round(pct * total / 100.0))\n",
    "    return f\"{pct:.1f}%\\n({count:d})\"\n",
    "\n",
    "plt.figure(figsize=(10, 10))\n",
    "plt.pie(\n",
    "    calltype_counts,\n",
    "    labels=calltype_counts.index, # type: ignore\n",
    "    autopct=autopct_format,\n",
    "    startangle=90,\n",
    ")\n",
    "plt.axis(\"equal\")\n",
    "plt.title(\"Distribution of call types\")\n",
    "plt.legend(\n",
    "    loc=\"upper left\",\n",
    "    labels=[calltype_meaning[calltype] for calltype in df[\"CALL_TYPE\"].value_counts().index],\n",
    "    title=\"Call type\",\n",
    "    fontsize=10,\n",
    ")\n",
    "plt.show()"
   ]
  },
  {
   "cell_type": "code",
   "execution_count": null,
   "id": "46bf4260",
   "metadata": {},
   "outputs": [
    {
     "name": "stdout",
     "output_type": "stream",
     "text": [
      "Most popular ORIGIN_STANDs for CALL_TYPE 'B':\n",
      "ORIGIN_STAND\n",
      "15    21\n",
      "57    13\n",
      "9      7\n",
      "53     6\n",
      "23     6\n",
      "60     4\n",
      "13     4\n",
      "35     4\n",
      "47     3\n",
      "18     3\n",
      "Name: count, dtype: Int64\n",
      "\n",
      "Least used ORIGIN_STANDs for CALL_TYPE 'B':\n",
      "ORIGIN_STAND\n",
      "11    1\n",
      "3     1\n",
      "17    1\n",
      "40    1\n",
      "26    1\n",
      "54    1\n",
      "63    1\n",
      "1     1\n",
      "58    1\n",
      "22    1\n",
      "Name: count, dtype: Int64\n"
     ]
    }
   ],
   "source": [
    "# For `CALL_TYPE` 'B', which `ORIGIN_STAND`s are the most popular? Which are underutilized?\n",
    "\n",
    "# Filter for CALL_TYPE 'B'\n",
    "stands_b = df[df[\"CALL_TYPE\"] == \"B\"][\"ORIGIN_STAND\"]\n",
    "\n",
    "# Count occurrences of each stand\n",
    "stand_counts = stands_b.value_counts()\n",
    "\n",
    "# Show the top 10 most popular stands\n",
    "print(\"Most popular ORIGIN_STANDs for CALL_TYPE 'B':\")\n",
    "print(stand_counts.head(10))\n",
    "\n",
    "# Show the 10 least used stands (underutilized)\n",
    "print(\"\\nLeast used ORIGIN_STANDs for CALL_TYPE 'B':\")\n",
    "print(stand_counts.tail(10))"
   ]
  },
  {
   "cell_type": "code",
   "execution_count": null,
   "id": "67ef1db8",
   "metadata": {},
   "outputs": [
    {
     "data": {
      "text/html": [
       "<div>\n",
       "<style scoped>\n",
       "    .dataframe tbody tr th:only-of-type {\n",
       "        vertical-align: middle;\n",
       "    }\n",
       "\n",
       "    .dataframe tbody tr th {\n",
       "        vertical-align: top;\n",
       "    }\n",
       "\n",
       "    .dataframe thead th {\n",
       "        text-align: right;\n",
       "    }\n",
       "</style>\n",
       "<table border=\"1\" class=\"dataframe\">\n",
       "  <thead>\n",
       "    <tr style=\"text-align: right;\">\n",
       "      <th></th>\n",
       "      <th>TRIP_ID</th>\n",
       "      <th>CALL_TYPE</th>\n",
       "      <th>ORIGIN_CALL</th>\n",
       "      <th>ORIGIN_STAND</th>\n",
       "      <th>TAXI_ID</th>\n",
       "      <th>TIMESTAMP</th>\n",
       "      <th>DAY_TYPE</th>\n",
       "      <th>POLYLINE</th>\n",
       "      <th>LONGITUDE</th>\n",
       "      <th>LATITUDE</th>\n",
       "      <th>START</th>\n",
       "      <th>END</th>\n",
       "      <th>geometry</th>\n",
       "    </tr>\n",
       "  </thead>\n",
       "  <tbody>\n",
       "    <tr>\n",
       "      <th>0</th>\n",
       "      <td>1</td>\n",
       "      <td>B</td>\n",
       "      <td>&lt;NA&gt;</td>\n",
       "      <td>15</td>\n",
       "      <td>20000542</td>\n",
       "      <td>2014-08-14 17:57:17</td>\n",
       "      <td>A</td>\n",
       "      <td>[[-8.585676, 41.148522], [-8.585712000000001, ...</td>\n",
       "      <td>-8.585676</td>\n",
       "      <td>41.148522</td>\n",
       "      <td>[-8.585676, 41.148522]</td>\n",
       "      <td>[-8.584883999999999, 41.146623000000005]</td>\n",
       "      <td>POINT (-8.58568 41.14852)</td>\n",
       "    </tr>\n",
       "    <tr>\n",
       "      <th>0</th>\n",
       "      <td>1</td>\n",
       "      <td>B</td>\n",
       "      <td>&lt;NA&gt;</td>\n",
       "      <td>15</td>\n",
       "      <td>20000542</td>\n",
       "      <td>2014-08-14 17:57:32</td>\n",
       "      <td>A</td>\n",
       "      <td>[[-8.585676, 41.148522], [-8.585712000000001, ...</td>\n",
       "      <td>-8.585712</td>\n",
       "      <td>41.148639</td>\n",
       "      <td>[-8.585676, 41.148522]</td>\n",
       "      <td>[-8.584883999999999, 41.146623000000005]</td>\n",
       "      <td>POINT (-8.58571 41.14864)</td>\n",
       "    </tr>\n",
       "    <tr>\n",
       "      <th>0</th>\n",
       "      <td>1</td>\n",
       "      <td>B</td>\n",
       "      <td>&lt;NA&gt;</td>\n",
       "      <td>15</td>\n",
       "      <td>20000542</td>\n",
       "      <td>2014-08-14 17:57:47</td>\n",
       "      <td>A</td>\n",
       "      <td>[[-8.585676, 41.148522], [-8.585712000000001, ...</td>\n",
       "      <td>-8.585685</td>\n",
       "      <td>41.148855</td>\n",
       "      <td>[-8.585676, 41.148522]</td>\n",
       "      <td>[-8.584883999999999, 41.146623000000005]</td>\n",
       "      <td>POINT (-8.58569 41.14886)</td>\n",
       "    </tr>\n",
       "    <tr>\n",
       "      <th>0</th>\n",
       "      <td>1</td>\n",
       "      <td>B</td>\n",
       "      <td>&lt;NA&gt;</td>\n",
       "      <td>15</td>\n",
       "      <td>20000542</td>\n",
       "      <td>2014-08-14 17:58:02</td>\n",
       "      <td>A</td>\n",
       "      <td>[[-8.585676, 41.148522], [-8.585712000000001, ...</td>\n",
       "      <td>-8.58573</td>\n",
       "      <td>41.148927</td>\n",
       "      <td>[-8.585676, 41.148522]</td>\n",
       "      <td>[-8.584883999999999, 41.146623000000005]</td>\n",
       "      <td>POINT (-8.58573 41.14893)</td>\n",
       "    </tr>\n",
       "    <tr>\n",
       "      <th>0</th>\n",
       "      <td>1</td>\n",
       "      <td>B</td>\n",
       "      <td>&lt;NA&gt;</td>\n",
       "      <td>15</td>\n",
       "      <td>20000542</td>\n",
       "      <td>2014-08-14 17:58:17</td>\n",
       "      <td>A</td>\n",
       "      <td>[[-8.585676, 41.148522], [-8.585712000000001, ...</td>\n",
       "      <td>-8.585982</td>\n",
       "      <td>41.148963</td>\n",
       "      <td>[-8.585676, 41.148522]</td>\n",
       "      <td>[-8.584883999999999, 41.146623000000005]</td>\n",
       "      <td>POINT (-8.58598 41.14896)</td>\n",
       "    </tr>\n",
       "    <tr>\n",
       "      <th>...</th>\n",
       "      <td>...</td>\n",
       "      <td>...</td>\n",
       "      <td>...</td>\n",
       "      <td>...</td>\n",
       "      <td>...</td>\n",
       "      <td>...</td>\n",
       "      <td>...</td>\n",
       "      <td>...</td>\n",
       "      <td>...</td>\n",
       "      <td>...</td>\n",
       "      <td>...</td>\n",
       "      <td>...</td>\n",
       "      <td>...</td>\n",
       "    </tr>\n",
       "    <tr>\n",
       "      <th>319</th>\n",
       "      <td>327</td>\n",
       "      <td>A</td>\n",
       "      <td>31208</td>\n",
       "      <td>&lt;NA&gt;</td>\n",
       "      <td>20000255</td>\n",
       "      <td>2014-12-21 14:28:45</td>\n",
       "      <td>A</td>\n",
       "      <td>[[-8.574561000000001, 41.180184], [-8.572248, ...</td>\n",
       "      <td>-8.582562</td>\n",
       "      <td>41.199111</td>\n",
       "      <td>[-8.574561000000001, 41.180184]</td>\n",
       "      <td>[-8.592345000000002, 41.192243999999995]</td>\n",
       "      <td>POINT (-8.58256 41.19911)</td>\n",
       "    </tr>\n",
       "    <tr>\n",
       "      <th>319</th>\n",
       "      <td>327</td>\n",
       "      <td>A</td>\n",
       "      <td>31208</td>\n",
       "      <td>&lt;NA&gt;</td>\n",
       "      <td>20000255</td>\n",
       "      <td>2014-12-21 14:29:00</td>\n",
       "      <td>A</td>\n",
       "      <td>[[-8.574561000000001, 41.180184], [-8.572248, ...</td>\n",
       "      <td>-8.586135</td>\n",
       "      <td>41.19831</td>\n",
       "      <td>[-8.574561000000001, 41.180184]</td>\n",
       "      <td>[-8.592345000000002, 41.192243999999995]</td>\n",
       "      <td>POINT (-8.58614 41.19831)</td>\n",
       "    </tr>\n",
       "    <tr>\n",
       "      <th>319</th>\n",
       "      <td>327</td>\n",
       "      <td>A</td>\n",
       "      <td>31208</td>\n",
       "      <td>&lt;NA&gt;</td>\n",
       "      <td>20000255</td>\n",
       "      <td>2014-12-21 14:29:15</td>\n",
       "      <td>A</td>\n",
       "      <td>[[-8.574561000000001, 41.180184], [-8.572248, ...</td>\n",
       "      <td>-8.590464</td>\n",
       "      <td>41.197824</td>\n",
       "      <td>[-8.574561000000001, 41.180184]</td>\n",
       "      <td>[-8.592345000000002, 41.192243999999995]</td>\n",
       "      <td>POINT (-8.59046 41.19782)</td>\n",
       "    </tr>\n",
       "    <tr>\n",
       "      <th>319</th>\n",
       "      <td>327</td>\n",
       "      <td>A</td>\n",
       "      <td>31208</td>\n",
       "      <td>&lt;NA&gt;</td>\n",
       "      <td>20000255</td>\n",
       "      <td>2014-12-21 14:29:30</td>\n",
       "      <td>A</td>\n",
       "      <td>[[-8.574561000000001, 41.180184], [-8.572248, ...</td>\n",
       "      <td>-8.590779</td>\n",
       "      <td>41.195223</td>\n",
       "      <td>[-8.574561000000001, 41.180184]</td>\n",
       "      <td>[-8.592345000000002, 41.192243999999995]</td>\n",
       "      <td>POINT (-8.59078 41.19522)</td>\n",
       "    </tr>\n",
       "    <tr>\n",
       "      <th>319</th>\n",
       "      <td>327</td>\n",
       "      <td>A</td>\n",
       "      <td>31208</td>\n",
       "      <td>&lt;NA&gt;</td>\n",
       "      <td>20000255</td>\n",
       "      <td>2014-12-21 14:29:45</td>\n",
       "      <td>A</td>\n",
       "      <td>[[-8.574561000000001, 41.180184], [-8.572248, ...</td>\n",
       "      <td>-8.592345</td>\n",
       "      <td>41.192244</td>\n",
       "      <td>[-8.574561000000001, 41.180184]</td>\n",
       "      <td>[-8.592345000000002, 41.192243999999995]</td>\n",
       "      <td>POINT (-8.59235 41.19224)</td>\n",
       "    </tr>\n",
       "  </tbody>\n",
       "</table>\n",
       "<p>14438 rows × 13 columns</p>\n",
       "</div>"
      ],
      "text/plain": [
       "     TRIP_ID CALL_TYPE  ORIGIN_CALL  ORIGIN_STAND   TAXI_ID  \\\n",
       "0          1         B         <NA>            15  20000542   \n",
       "0          1         B         <NA>            15  20000542   \n",
       "0          1         B         <NA>            15  20000542   \n",
       "0          1         B         <NA>            15  20000542   \n",
       "0          1         B         <NA>            15  20000542   \n",
       "..       ...       ...          ...           ...       ...   \n",
       "319      327         A        31208          <NA>  20000255   \n",
       "319      327         A        31208          <NA>  20000255   \n",
       "319      327         A        31208          <NA>  20000255   \n",
       "319      327         A        31208          <NA>  20000255   \n",
       "319      327         A        31208          <NA>  20000255   \n",
       "\n",
       "              TIMESTAMP DAY_TYPE  \\\n",
       "0   2014-08-14 17:57:17        A   \n",
       "0   2014-08-14 17:57:32        A   \n",
       "0   2014-08-14 17:57:47        A   \n",
       "0   2014-08-14 17:58:02        A   \n",
       "0   2014-08-14 17:58:17        A   \n",
       "..                  ...      ...   \n",
       "319 2014-12-21 14:28:45        A   \n",
       "319 2014-12-21 14:29:00        A   \n",
       "319 2014-12-21 14:29:15        A   \n",
       "319 2014-12-21 14:29:30        A   \n",
       "319 2014-12-21 14:29:45        A   \n",
       "\n",
       "                                              POLYLINE LONGITUDE   LATITUDE  \\\n",
       "0    [[-8.585676, 41.148522], [-8.585712000000001, ... -8.585676  41.148522   \n",
       "0    [[-8.585676, 41.148522], [-8.585712000000001, ... -8.585712  41.148639   \n",
       "0    [[-8.585676, 41.148522], [-8.585712000000001, ... -8.585685  41.148855   \n",
       "0    [[-8.585676, 41.148522], [-8.585712000000001, ...  -8.58573  41.148927   \n",
       "0    [[-8.585676, 41.148522], [-8.585712000000001, ... -8.585982  41.148963   \n",
       "..                                                 ...       ...        ...   \n",
       "319  [[-8.574561000000001, 41.180184], [-8.572248, ... -8.582562  41.199111   \n",
       "319  [[-8.574561000000001, 41.180184], [-8.572248, ... -8.586135   41.19831   \n",
       "319  [[-8.574561000000001, 41.180184], [-8.572248, ... -8.590464  41.197824   \n",
       "319  [[-8.574561000000001, 41.180184], [-8.572248, ... -8.590779  41.195223   \n",
       "319  [[-8.574561000000001, 41.180184], [-8.572248, ... -8.592345  41.192244   \n",
       "\n",
       "                               START  \\\n",
       "0             [-8.585676, 41.148522]   \n",
       "0             [-8.585676, 41.148522]   \n",
       "0             [-8.585676, 41.148522]   \n",
       "0             [-8.585676, 41.148522]   \n",
       "0             [-8.585676, 41.148522]   \n",
       "..                               ...   \n",
       "319  [-8.574561000000001, 41.180184]   \n",
       "319  [-8.574561000000001, 41.180184]   \n",
       "319  [-8.574561000000001, 41.180184]   \n",
       "319  [-8.574561000000001, 41.180184]   \n",
       "319  [-8.574561000000001, 41.180184]   \n",
       "\n",
       "                                          END                   geometry  \n",
       "0    [-8.584883999999999, 41.146623000000005]  POINT (-8.58568 41.14852)  \n",
       "0    [-8.584883999999999, 41.146623000000005]  POINT (-8.58571 41.14864)  \n",
       "0    [-8.584883999999999, 41.146623000000005]  POINT (-8.58569 41.14886)  \n",
       "0    [-8.584883999999999, 41.146623000000005]  POINT (-8.58573 41.14893)  \n",
       "0    [-8.584883999999999, 41.146623000000005]  POINT (-8.58598 41.14896)  \n",
       "..                                        ...                        ...  \n",
       "319  [-8.592345000000002, 41.192243999999995]  POINT (-8.58256 41.19911)  \n",
       "319  [-8.592345000000002, 41.192243999999995]  POINT (-8.58614 41.19831)  \n",
       "319  [-8.592345000000002, 41.192243999999995]  POINT (-8.59046 41.19782)  \n",
       "319  [-8.592345000000002, 41.192243999999995]  POINT (-8.59078 41.19522)  \n",
       "319  [-8.592345000000002, 41.192243999999995]  POINT (-8.59235 41.19224)  \n",
       "\n",
       "[14438 rows x 13 columns]"
      ]
     },
     "execution_count": 11,
     "metadata": {},
     "output_type": "execute_result"
    }
   ],
   "source": [
    "gdf = GeoDataFrame(exploded_df, geometry=gpd.points_from_xy(\n",
    "    exploded_df[\"LONGITUDE\"],\n",
    "    exploded_df[\"LATITUDE\"],\n",
    "), crs=\"EPSG:4326\")\n",
    "\n",
    "gdf"
   ]
  },
  {
   "cell_type": "code",
   "execution_count": null,
   "id": "283d4775",
   "metadata": {},
   "outputs": [],
   "source": [
    "collection = TrajectoryCollection(gdf, traj_id_col=\"TRIP_ID\", t=\"TIMESTAMP\")"
   ]
  },
  {
   "cell_type": "code",
   "execution_count": null,
   "id": "8e7c6187",
   "metadata": {},
   "outputs": [],
   "source": [
    "# collection.explore(tiles=\"CartoDB positron\", cmap=\"plasma\", column=\"CALL_TYPE\")"
   ]
  }
 ],
 "metadata": {
  "kernelspec": {
   "display_name": "env",
   "language": "python",
   "name": "python3"
  },
  "language_info": {
   "codemirror_mode": {
    "name": "ipython",
    "version": 3
   },
   "file_extension": ".py",
   "mimetype": "text/x-python",
   "name": "python",
   "nbconvert_exporter": "python",
   "pygments_lexer": "ipython3",
   "version": "3.12.10"
  }
 },
 "nbformat": 4,
 "nbformat_minor": 5
}
